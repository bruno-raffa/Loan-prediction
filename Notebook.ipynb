{
 "cells": [
  {
   "cell_type": "markdown",
   "metadata": {},
   "source": [
    "# Predictions of Loans"
   ]
  },
  {
   "cell_type": "markdown",
   "metadata": {},
   "source": [
    "## Goal:"
   ]
  },
  {
   "cell_type": "markdown",
   "metadata": {},
   "source": [
    "Automate the **loan eligibility process** based on customer detail provided while filling online application form. These details are Gender, Marital Status, Education, Number of Dependents, Income, Loan Amount, Credit History and others"
   ]
  },
  {
   "cell_type": "markdown",
   "metadata": {},
   "source": [
    "## Data"
   ]
  },
  {
   "cell_type": "markdown",
   "metadata": {},
   "source": [
    "We have a table that contains information about loan's applicants.\n",
    "\n",
    "**Columns:**\n"
   ]
  },
  {
   "cell_type": "markdown",
   "metadata": {},
   "source": [
    "- **Loan_ID**: Unique Loan ID\n",
    "- **Gender:** Male/ Female\n",
    "- **Married:** Applicant married (Y/N)\n",
    "- **Dependents:** Number of dependents\n",
    "- **Education:** Applicant Education (Graduate/ Under Graduate)\n",
    "- **Self_Employed:** Self employed (Y/N)\n",
    "- **ApplicantIncome:** Applicant income per month in \\$\n",
    "- **CoapplicantIncome:** Coapplicant income\n",
    "- **LoanAmount:** Loan amount in thousands \\$\n",
    "- ** Loan_Amount_Term:** Term of loan in months\n",
    "- **Credit_History:** Credit history meets guidelines\n",
    "- **Property_Area:** Urban/ Semi Urban/ Rural\n",
    "- **Loan_Status:** Loan approved (Y/N) *This is our label*"
   ]
  },
  {
   "cell_type": "markdown",
   "metadata": {},
   "source": [
    "### Import dependencies"
   ]
  },
  {
   "cell_type": "code",
   "execution_count": 1,
   "metadata": {
    "collapsed": true
   },
   "outputs": [],
   "source": [
    "# Import main libraries\n",
    "import pandas as pd\n",
    "import numpy as np\n",
    "import seaborn as sns\n",
    "import matplotlib.pyplot as plt\n",
    "% matplotlib inline"
   ]
  },
  {
   "cell_type": "code",
   "execution_count": 2,
   "metadata": {
    "collapsed": true
   },
   "outputs": [],
   "source": [
    "# Import Classifiers \n",
    "from sklearn.ensemble import RandomForestClassifier, GradientBoostingClassifier, partial_dependence\n",
    "from sklearn.ensemble.partial_dependence import plot_partial_dependence\n",
    "\n",
    "from sklearn.linear_model import LogisticRegression\n",
    "from sklearn.tree import DecisionTreeClassifier, export_graphviz"
   ]
  },
  {
   "cell_type": "code",
   "execution_count": 3,
   "metadata": {
    "collapsed": true
   },
   "outputs": [],
   "source": [
    "# Import Model Evaluation tools\n",
    "from sklearn.model_selection import train_test_split\n",
    "from sklearn.model_selection import cross_val_score, GridSearchCV, learning_curve"
   ]
  },
  {
   "cell_type": "code",
   "execution_count": 4,
   "metadata": {
    "collapsed": true
   },
   "outputs": [],
   "source": [
    "# Import Metrics\n",
    "from sklearn.metrics import accuracy_score, roc_auc_score, confusion_matrix, classification_report"
   ]
  },
  {
   "cell_type": "markdown",
   "metadata": {},
   "source": [
    "### Read in the data¶"
   ]
  },
  {
   "cell_type": "code",
   "execution_count": 5,
   "metadata": {
    "collapsed": true
   },
   "outputs": [],
   "source": [
    "url = 'https://bitbucket.org/fukac99/onlinebasecamp/raw/e6f5ba811195e7fc4acca0c0e7aa56db181b0600/classification_exercise.csv'"
   ]
  },
  {
   "cell_type": "code",
   "execution_count": 6,
   "metadata": {
    "scrolled": true
   },
   "outputs": [
    {
     "data": {
      "text/html": [
       "<div>\n",
       "<style scoped>\n",
       "    .dataframe tbody tr th:only-of-type {\n",
       "        vertical-align: middle;\n",
       "    }\n",
       "\n",
       "    .dataframe tbody tr th {\n",
       "        vertical-align: top;\n",
       "    }\n",
       "\n",
       "    .dataframe thead th {\n",
       "        text-align: right;\n",
       "    }\n",
       "</style>\n",
       "<table border=\"1\" class=\"dataframe\">\n",
       "  <thead>\n",
       "    <tr style=\"text-align: right;\">\n",
       "      <th></th>\n",
       "      <th>Loan_ID</th>\n",
       "      <th>Gender</th>\n",
       "      <th>Married</th>\n",
       "      <th>Dependents</th>\n",
       "      <th>Education</th>\n",
       "      <th>Self_Employed</th>\n",
       "      <th>ApplicantIncome</th>\n",
       "      <th>CoapplicantIncome</th>\n",
       "      <th>LoanAmount</th>\n",
       "      <th>Loan_Amount_Term</th>\n",
       "      <th>Credit_History</th>\n",
       "      <th>Property_Area</th>\n",
       "      <th>Loan_Status</th>\n",
       "    </tr>\n",
       "  </thead>\n",
       "  <tbody>\n",
       "    <tr>\n",
       "      <th>0</th>\n",
       "      <td>LP001002</td>\n",
       "      <td>Male</td>\n",
       "      <td>No</td>\n",
       "      <td>0</td>\n",
       "      <td>Graduate</td>\n",
       "      <td>No</td>\n",
       "      <td>5849</td>\n",
       "      <td>0.0</td>\n",
       "      <td>NaN</td>\n",
       "      <td>360.0</td>\n",
       "      <td>1.0</td>\n",
       "      <td>Urban</td>\n",
       "      <td>Y</td>\n",
       "    </tr>\n",
       "    <tr>\n",
       "      <th>1</th>\n",
       "      <td>LP001003</td>\n",
       "      <td>Male</td>\n",
       "      <td>Yes</td>\n",
       "      <td>1</td>\n",
       "      <td>Graduate</td>\n",
       "      <td>No</td>\n",
       "      <td>4583</td>\n",
       "      <td>1508.0</td>\n",
       "      <td>128.0</td>\n",
       "      <td>360.0</td>\n",
       "      <td>1.0</td>\n",
       "      <td>Rural</td>\n",
       "      <td>N</td>\n",
       "    </tr>\n",
       "    <tr>\n",
       "      <th>2</th>\n",
       "      <td>LP001005</td>\n",
       "      <td>Male</td>\n",
       "      <td>Yes</td>\n",
       "      <td>0</td>\n",
       "      <td>Graduate</td>\n",
       "      <td>Yes</td>\n",
       "      <td>3000</td>\n",
       "      <td>0.0</td>\n",
       "      <td>66.0</td>\n",
       "      <td>360.0</td>\n",
       "      <td>1.0</td>\n",
       "      <td>Urban</td>\n",
       "      <td>Y</td>\n",
       "    </tr>\n",
       "    <tr>\n",
       "      <th>3</th>\n",
       "      <td>LP001006</td>\n",
       "      <td>Male</td>\n",
       "      <td>Yes</td>\n",
       "      <td>0</td>\n",
       "      <td>Not Graduate</td>\n",
       "      <td>No</td>\n",
       "      <td>2583</td>\n",
       "      <td>2358.0</td>\n",
       "      <td>120.0</td>\n",
       "      <td>360.0</td>\n",
       "      <td>1.0</td>\n",
       "      <td>Urban</td>\n",
       "      <td>Y</td>\n",
       "    </tr>\n",
       "    <tr>\n",
       "      <th>4</th>\n",
       "      <td>LP001008</td>\n",
       "      <td>Male</td>\n",
       "      <td>No</td>\n",
       "      <td>0</td>\n",
       "      <td>Graduate</td>\n",
       "      <td>No</td>\n",
       "      <td>6000</td>\n",
       "      <td>0.0</td>\n",
       "      <td>141.0</td>\n",
       "      <td>360.0</td>\n",
       "      <td>1.0</td>\n",
       "      <td>Urban</td>\n",
       "      <td>Y</td>\n",
       "    </tr>\n",
       "  </tbody>\n",
       "</table>\n",
       "</div>"
      ],
      "text/plain": [
       "    Loan_ID Gender Married Dependents     Education Self_Employed  \\\n",
       "0  LP001002   Male      No          0      Graduate            No   \n",
       "1  LP001003   Male     Yes          1      Graduate            No   \n",
       "2  LP001005   Male     Yes          0      Graduate           Yes   \n",
       "3  LP001006   Male     Yes          0  Not Graduate            No   \n",
       "4  LP001008   Male      No          0      Graduate            No   \n",
       "\n",
       "   ApplicantIncome  CoapplicantIncome  LoanAmount  Loan_Amount_Term  \\\n",
       "0             5849                0.0         NaN             360.0   \n",
       "1             4583             1508.0       128.0             360.0   \n",
       "2             3000                0.0        66.0             360.0   \n",
       "3             2583             2358.0       120.0             360.0   \n",
       "4             6000                0.0       141.0             360.0   \n",
       "\n",
       "   Credit_History Property_Area Loan_Status  \n",
       "0             1.0         Urban           Y  \n",
       "1             1.0         Rural           N  \n",
       "2             1.0         Urban           Y  \n",
       "3             1.0         Urban           Y  \n",
       "4             1.0         Urban           Y  "
      ]
     },
     "execution_count": 6,
     "metadata": {},
     "output_type": "execute_result"
    }
   ],
   "source": [
    "df =pd.read_csv(url)\n",
    "\n",
    "# Check first 5 rows of the dataframe to get a sense of the data\n",
    "df.head()"
   ]
  },
  {
   "cell_type": "markdown",
   "metadata": {},
   "source": [
    "### Explore the dataset"
   ]
  },
  {
   "cell_type": "code",
   "execution_count": 7,
   "metadata": {
    "scrolled": true
   },
   "outputs": [
    {
     "name": "stdout",
     "output_type": "stream",
     "text": [
      "<class 'pandas.core.frame.DataFrame'>\n",
      "RangeIndex: 614 entries, 0 to 613\n",
      "Data columns (total 13 columns):\n",
      "Loan_ID              614 non-null object\n",
      "Gender               601 non-null object\n",
      "Married              611 non-null object\n",
      "Dependents           599 non-null object\n",
      "Education            614 non-null object\n",
      "Self_Employed        582 non-null object\n",
      "ApplicantIncome      614 non-null int64\n",
      "CoapplicantIncome    614 non-null float64\n",
      "LoanAmount           592 non-null float64\n",
      "Loan_Amount_Term     600 non-null float64\n",
      "Credit_History       564 non-null float64\n",
      "Property_Area        614 non-null object\n",
      "Loan_Status          614 non-null object\n",
      "dtypes: float64(4), int64(1), object(8)\n",
      "memory usage: 62.4+ KB\n"
     ]
    }
   ],
   "source": [
    "df.info()"
   ]
  },
  {
   "cell_type": "code",
   "execution_count": 8,
   "metadata": {},
   "outputs": [
    {
     "data": {
      "text/html": [
       "<div>\n",
       "<style scoped>\n",
       "    .dataframe tbody tr th:only-of-type {\n",
       "        vertical-align: middle;\n",
       "    }\n",
       "\n",
       "    .dataframe tbody tr th {\n",
       "        vertical-align: top;\n",
       "    }\n",
       "\n",
       "    .dataframe thead th {\n",
       "        text-align: right;\n",
       "    }\n",
       "</style>\n",
       "<table border=\"1\" class=\"dataframe\">\n",
       "  <thead>\n",
       "    <tr style=\"text-align: right;\">\n",
       "      <th></th>\n",
       "      <th>count</th>\n",
       "      <th>mean</th>\n",
       "      <th>std</th>\n",
       "      <th>min</th>\n",
       "      <th>25%</th>\n",
       "      <th>50%</th>\n",
       "      <th>75%</th>\n",
       "      <th>max</th>\n",
       "    </tr>\n",
       "  </thead>\n",
       "  <tbody>\n",
       "    <tr>\n",
       "      <th>ApplicantIncome</th>\n",
       "      <td>614.0</td>\n",
       "      <td>5403.459283</td>\n",
       "      <td>6109.041673</td>\n",
       "      <td>150.0</td>\n",
       "      <td>2877.5</td>\n",
       "      <td>3812.5</td>\n",
       "      <td>5795.00</td>\n",
       "      <td>81000.0</td>\n",
       "    </tr>\n",
       "    <tr>\n",
       "      <th>CoapplicantIncome</th>\n",
       "      <td>614.0</td>\n",
       "      <td>1621.245798</td>\n",
       "      <td>2926.248369</td>\n",
       "      <td>0.0</td>\n",
       "      <td>0.0</td>\n",
       "      <td>1188.5</td>\n",
       "      <td>2297.25</td>\n",
       "      <td>41667.0</td>\n",
       "    </tr>\n",
       "    <tr>\n",
       "      <th>LoanAmount</th>\n",
       "      <td>592.0</td>\n",
       "      <td>146.412162</td>\n",
       "      <td>85.587325</td>\n",
       "      <td>9.0</td>\n",
       "      <td>100.0</td>\n",
       "      <td>128.0</td>\n",
       "      <td>168.00</td>\n",
       "      <td>700.0</td>\n",
       "    </tr>\n",
       "    <tr>\n",
       "      <th>Loan_Amount_Term</th>\n",
       "      <td>600.0</td>\n",
       "      <td>342.000000</td>\n",
       "      <td>65.120410</td>\n",
       "      <td>12.0</td>\n",
       "      <td>360.0</td>\n",
       "      <td>360.0</td>\n",
       "      <td>360.00</td>\n",
       "      <td>480.0</td>\n",
       "    </tr>\n",
       "    <tr>\n",
       "      <th>Credit_History</th>\n",
       "      <td>564.0</td>\n",
       "      <td>0.842199</td>\n",
       "      <td>0.364878</td>\n",
       "      <td>0.0</td>\n",
       "      <td>1.0</td>\n",
       "      <td>1.0</td>\n",
       "      <td>1.00</td>\n",
       "      <td>1.0</td>\n",
       "    </tr>\n",
       "  </tbody>\n",
       "</table>\n",
       "</div>"
      ],
      "text/plain": [
       "                   count         mean          std    min     25%     50%  \\\n",
       "ApplicantIncome    614.0  5403.459283  6109.041673  150.0  2877.5  3812.5   \n",
       "CoapplicantIncome  614.0  1621.245798  2926.248369    0.0     0.0  1188.5   \n",
       "LoanAmount         592.0   146.412162    85.587325    9.0   100.0   128.0   \n",
       "Loan_Amount_Term   600.0   342.000000    65.120410   12.0   360.0   360.0   \n",
       "Credit_History     564.0     0.842199     0.364878    0.0     1.0     1.0   \n",
       "\n",
       "                       75%      max  \n",
       "ApplicantIncome    5795.00  81000.0  \n",
       "CoapplicantIncome  2297.25  41667.0  \n",
       "LoanAmount          168.00    700.0  \n",
       "Loan_Amount_Term    360.00    480.0  \n",
       "Credit_History        1.00      1.0  "
      ]
     },
     "execution_count": 8,
     "metadata": {},
     "output_type": "execute_result"
    }
   ],
   "source": [
    "df.describe().T"
   ]
  },
  {
   "cell_type": "code",
   "execution_count": 9,
   "metadata": {
    "scrolled": false
   },
   "outputs": [
    {
     "data": {
      "text/html": [
       "<div>\n",
       "<style scoped>\n",
       "    .dataframe tbody tr th:only-of-type {\n",
       "        vertical-align: middle;\n",
       "    }\n",
       "\n",
       "    .dataframe tbody tr th {\n",
       "        vertical-align: top;\n",
       "    }\n",
       "\n",
       "    .dataframe thead th {\n",
       "        text-align: right;\n",
       "    }\n",
       "</style>\n",
       "<table border=\"1\" class=\"dataframe\">\n",
       "  <thead>\n",
       "    <tr style=\"text-align: right;\">\n",
       "      <th></th>\n",
       "      <th>Loan_ID</th>\n",
       "      <th>Gender</th>\n",
       "      <th>Married</th>\n",
       "      <th>Dependents</th>\n",
       "      <th>Education</th>\n",
       "      <th>Self_Employed</th>\n",
       "      <th>Property_Area</th>\n",
       "      <th>Loan_Status</th>\n",
       "    </tr>\n",
       "  </thead>\n",
       "  <tbody>\n",
       "    <tr>\n",
       "      <th>count</th>\n",
       "      <td>614</td>\n",
       "      <td>601</td>\n",
       "      <td>611</td>\n",
       "      <td>599</td>\n",
       "      <td>614</td>\n",
       "      <td>582</td>\n",
       "      <td>614</td>\n",
       "      <td>614</td>\n",
       "    </tr>\n",
       "    <tr>\n",
       "      <th>unique</th>\n",
       "      <td>614</td>\n",
       "      <td>2</td>\n",
       "      <td>2</td>\n",
       "      <td>4</td>\n",
       "      <td>2</td>\n",
       "      <td>2</td>\n",
       "      <td>3</td>\n",
       "      <td>2</td>\n",
       "    </tr>\n",
       "    <tr>\n",
       "      <th>top</th>\n",
       "      <td>LP001637</td>\n",
       "      <td>Male</td>\n",
       "      <td>Yes</td>\n",
       "      <td>0</td>\n",
       "      <td>Graduate</td>\n",
       "      <td>No</td>\n",
       "      <td>Semiurban</td>\n",
       "      <td>Y</td>\n",
       "    </tr>\n",
       "    <tr>\n",
       "      <th>freq</th>\n",
       "      <td>1</td>\n",
       "      <td>489</td>\n",
       "      <td>398</td>\n",
       "      <td>345</td>\n",
       "      <td>480</td>\n",
       "      <td>500</td>\n",
       "      <td>233</td>\n",
       "      <td>422</td>\n",
       "    </tr>\n",
       "  </tbody>\n",
       "</table>\n",
       "</div>"
      ],
      "text/plain": [
       "         Loan_ID Gender Married Dependents Education Self_Employed  \\\n",
       "count        614    601     611        599       614           582   \n",
       "unique       614      2       2          4         2             2   \n",
       "top     LP001637   Male     Yes          0  Graduate            No   \n",
       "freq           1    489     398        345       480           500   \n",
       "\n",
       "       Property_Area Loan_Status  \n",
       "count            614         614  \n",
       "unique             3           2  \n",
       "top        Semiurban           Y  \n",
       "freq             233         422  "
      ]
     },
     "execution_count": 9,
     "metadata": {},
     "output_type": "execute_result"
    }
   ],
   "source": [
    "df.describe(include='O')"
   ]
  },
  {
   "cell_type": "code",
   "execution_count": 10,
   "metadata": {},
   "outputs": [
    {
     "data": {
      "text/plain": [
       "Loan_ID               0\n",
       "Gender               13\n",
       "Married               3\n",
       "Dependents           15\n",
       "Education             0\n",
       "Self_Employed        32\n",
       "ApplicantIncome       0\n",
       "CoapplicantIncome     0\n",
       "LoanAmount           22\n",
       "Loan_Amount_Term     14\n",
       "Credit_History       50\n",
       "Property_Area         0\n",
       "Loan_Status           0\n",
       "dtype: int64"
      ]
     },
     "execution_count": 10,
     "metadata": {},
     "output_type": "execute_result"
    }
   ],
   "source": [
    "df.isna().sum()"
   ]
  },
  {
   "cell_type": "code",
   "execution_count": 11,
   "metadata": {},
   "outputs": [
    {
     "data": {
      "text/plain": [
       "0"
      ]
     },
     "execution_count": 11,
     "metadata": {},
     "output_type": "execute_result"
    }
   ],
   "source": [
    "# check for duplicates\n",
    "df.duplicated().sum()"
   ]
  },
  {
   "cell_type": "code",
   "execution_count": 12,
   "metadata": {},
   "outputs": [
    {
     "data": {
      "text/plain": [
       "True"
      ]
     },
     "execution_count": 12,
     "metadata": {},
     "output_type": "execute_result"
    }
   ],
   "source": [
    "# check for unique ID\n",
    "df.Loan_ID.nunique()== df.shape[0]"
   ]
  },
  {
   "cell_type": "markdown",
   "metadata": {},
   "source": [
    "A few quick observations:\n",
    "- there are some missing values that must be dealt with during data cleaning phase\n",
    "- for a consistent numbers of applicants no credit history is available\n",
    "- there are no duplicates of any kind into the dataset\n",
    "- the dtypes appear consistent with what expected, apart from Dependents which is an *object* instead of an *int* type\n",
    "- the label of the challenge is a categorical one (Y/N) and be better transformed in a numerical one to allow data analysis "
   ]
  },
  {
   "cell_type": "markdown",
   "metadata": {},
   "source": [
    "### Data Cleaning"
   ]
  },
  {
   "cell_type": "code",
   "execution_count": 13,
   "metadata": {},
   "outputs": [
    {
     "name": "stdout",
     "output_type": "stream",
     "text": [
      "Feature 'Loan_ID' has 614 unique categories\n",
      "They are: ['LP001002' 'LP001003' 'LP001005' 'LP001006' 'LP001008' 'LP001011'\n",
      " 'LP001013' 'LP001014' 'LP001018' 'LP001020' 'LP001024' 'LP001027'\n",
      " 'LP001028' 'LP001029' 'LP001030' 'LP001032' 'LP001034' 'LP001036'\n",
      " 'LP001038' 'LP001041' 'LP001043' 'LP001046' 'LP001047' 'LP001050'\n",
      " 'LP001052' 'LP001066' 'LP001068' 'LP001073' 'LP001086' 'LP001087'\n",
      " 'LP001091' 'LP001095' 'LP001097' 'LP001098' 'LP001100' 'LP001106'\n",
      " 'LP001109' 'LP001112' 'LP001114' 'LP001116' 'LP001119' 'LP001120'\n",
      " 'LP001123' 'LP001131' 'LP001136' 'LP001137' 'LP001138' 'LP001144'\n",
      " 'LP001146' 'LP001151' 'LP001155' 'LP001157' 'LP001164' 'LP001179'\n",
      " 'LP001186' 'LP001194' 'LP001195' 'LP001197' 'LP001198' 'LP001199'\n",
      " 'LP001205' 'LP001206' 'LP001207' 'LP001213' 'LP001222' 'LP001225'\n",
      " 'LP001228' 'LP001233' 'LP001238' 'LP001241' 'LP001243' 'LP001245'\n",
      " 'LP001248' 'LP001250' 'LP001253' 'LP001255' 'LP001256' 'LP001259'\n",
      " 'LP001263' 'LP001264' 'LP001265' 'LP001266' 'LP001267' 'LP001273'\n",
      " 'LP001275' 'LP001279' 'LP001280' 'LP001282' 'LP001289' 'LP001310'\n",
      " 'LP001316' 'LP001318' 'LP001319' 'LP001322' 'LP001325' 'LP001326'\n",
      " 'LP001327' 'LP001333' 'LP001334' 'LP001343' 'LP001345' 'LP001349'\n",
      " 'LP001350' 'LP001356' 'LP001357' 'LP001367' 'LP001369' 'LP001370'\n",
      " 'LP001379' 'LP001384' 'LP001385' 'LP001387' 'LP001391' 'LP001392'\n",
      " 'LP001398' 'LP001401' 'LP001404' 'LP001405' 'LP001421' 'LP001422'\n",
      " 'LP001426' 'LP001430' 'LP001431' 'LP001432' 'LP001439' 'LP001443'\n",
      " 'LP001448' 'LP001449' 'LP001451' 'LP001465' 'LP001469' 'LP001473'\n",
      " 'LP001478' 'LP001482' 'LP001487' 'LP001488' 'LP001489' 'LP001491'\n",
      " 'LP001492' 'LP001493' 'LP001497' 'LP001498' 'LP001504' 'LP001507'\n",
      " 'LP001508' 'LP001514' 'LP001516' 'LP001518' 'LP001519' 'LP001520'\n",
      " 'LP001528' 'LP001529' 'LP001531' 'LP001532' 'LP001535' 'LP001536'\n",
      " 'LP001541' 'LP001543' 'LP001546' 'LP001552' 'LP001560' 'LP001562'\n",
      " 'LP001565' 'LP001570' 'LP001572' 'LP001574' 'LP001577' 'LP001578'\n",
      " 'LP001579' 'LP001580' 'LP001581' 'LP001585' 'LP001586' 'LP001594'\n",
      " 'LP001603' 'LP001606' 'LP001608' 'LP001610' 'LP001616' 'LP001630'\n",
      " 'LP001633' 'LP001634' 'LP001636' 'LP001637' 'LP001639' 'LP001640'\n",
      " 'LP001641' 'LP001643' 'LP001644' 'LP001647' 'LP001653' 'LP001656'\n",
      " 'LP001657' 'LP001658' 'LP001664' 'LP001665' 'LP001666' 'LP001669'\n",
      " 'LP001671' 'LP001673' 'LP001674' 'LP001677' 'LP001682' 'LP001688'\n",
      " 'LP001691' 'LP001692' 'LP001693' 'LP001698' 'LP001699' 'LP001702'\n",
      " 'LP001708' 'LP001711' 'LP001713' 'LP001715' 'LP001716' 'LP001720'\n",
      " 'LP001722' 'LP001726' 'LP001732' 'LP001734' 'LP001736' 'LP001743'\n",
      " 'LP001744' 'LP001749' 'LP001750' 'LP001751' 'LP001754' 'LP001758'\n",
      " 'LP001760' 'LP001761' 'LP001765' 'LP001768' 'LP001770' 'LP001776'\n",
      " 'LP001778' 'LP001784' 'LP001786' 'LP001788' 'LP001790' 'LP001792'\n",
      " 'LP001798' 'LP001800' 'LP001806' 'LP001807' 'LP001811' 'LP001813'\n",
      " 'LP001814' 'LP001819' 'LP001824' 'LP001825' 'LP001835' 'LP001836'\n",
      " 'LP001841' 'LP001843' 'LP001844' 'LP001846' 'LP001849' 'LP001854'\n",
      " 'LP001859' 'LP001864' 'LP001865' 'LP001868' 'LP001870' 'LP001871'\n",
      " 'LP001872' 'LP001875' 'LP001877' 'LP001882' 'LP001883' 'LP001884'\n",
      " 'LP001888' 'LP001891' 'LP001892' 'LP001894' 'LP001896' 'LP001900'\n",
      " 'LP001903' 'LP001904' 'LP001907' 'LP001908' 'LP001910' 'LP001914'\n",
      " 'LP001915' 'LP001917' 'LP001922' 'LP001924' 'LP001925' 'LP001926'\n",
      " 'LP001931' 'LP001935' 'LP001936' 'LP001938' 'LP001940' 'LP001945'\n",
      " 'LP001947' 'LP001949' 'LP001953' 'LP001954' 'LP001955' 'LP001963'\n",
      " 'LP001964' 'LP001972' 'LP001974' 'LP001977' 'LP001978' 'LP001990'\n",
      " 'LP001993' 'LP001994' 'LP001996' 'LP001998' 'LP002002' 'LP002004'\n",
      " 'LP002006' 'LP002008' 'LP002024' 'LP002031' 'LP002035' 'LP002036'\n",
      " 'LP002043' 'LP002050' 'LP002051' 'LP002053' 'LP002054' 'LP002055'\n",
      " 'LP002065' 'LP002067' 'LP002068' 'LP002082' 'LP002086' 'LP002087'\n",
      " 'LP002097' 'LP002098' 'LP002100' 'LP002101' 'LP002103' 'LP002106'\n",
      " 'LP002110' 'LP002112' 'LP002113' 'LP002114' 'LP002115' 'LP002116'\n",
      " 'LP002119' 'LP002126' 'LP002128' 'LP002129' 'LP002130' 'LP002131'\n",
      " 'LP002137' 'LP002138' 'LP002139' 'LP002140' 'LP002141' 'LP002142'\n",
      " 'LP002143' 'LP002144' 'LP002149' 'LP002151' 'LP002158' 'LP002160'\n",
      " 'LP002161' 'LP002170' 'LP002175' 'LP002178' 'LP002180' 'LP002181'\n",
      " 'LP002187' 'LP002188' 'LP002190' 'LP002191' 'LP002194' 'LP002197'\n",
      " 'LP002201' 'LP002205' 'LP002209' 'LP002211' 'LP002219' 'LP002223'\n",
      " 'LP002224' 'LP002225' 'LP002226' 'LP002229' 'LP002231' 'LP002234'\n",
      " 'LP002236' 'LP002237' 'LP002239' 'LP002243' 'LP002244' 'LP002250'\n",
      " 'LP002255' 'LP002262' 'LP002263' 'LP002265' 'LP002266' 'LP002272'\n",
      " 'LP002277' 'LP002281' 'LP002284' 'LP002287' 'LP002288' 'LP002296'\n",
      " 'LP002297' 'LP002300' 'LP002301' 'LP002305' 'LP002308' 'LP002314'\n",
      " 'LP002315' 'LP002317' 'LP002318' 'LP002319' 'LP002328' 'LP002332'\n",
      " 'LP002335' 'LP002337' 'LP002341' 'LP002342' 'LP002345' 'LP002347'\n",
      " 'LP002348' 'LP002357' 'LP002361' 'LP002362' 'LP002364' 'LP002366'\n",
      " 'LP002367' 'LP002368' 'LP002369' 'LP002370' 'LP002377' 'LP002379'\n",
      " 'LP002386' 'LP002387' 'LP002390' 'LP002393' 'LP002398' 'LP002401'\n",
      " 'LP002403' 'LP002407' 'LP002408' 'LP002409' 'LP002418' 'LP002422'\n",
      " 'LP002424' 'LP002429' 'LP002434' 'LP002435' 'LP002443' 'LP002444'\n",
      " 'LP002446' 'LP002447' 'LP002448' 'LP002449' 'LP002453' 'LP002455'\n",
      " 'LP002459' 'LP002467' 'LP002472' 'LP002473' 'LP002478' 'LP002484'\n",
      " 'LP002487' 'LP002489' 'LP002493' 'LP002494' 'LP002500' 'LP002501'\n",
      " 'LP002502' 'LP002505' 'LP002515' 'LP002517' 'LP002519' 'LP002522'\n",
      " 'LP002524' 'LP002527' 'LP002529' 'LP002530' 'LP002531' 'LP002533'\n",
      " 'LP002534' 'LP002536' 'LP002537' 'LP002541' 'LP002543' 'LP002544'\n",
      " 'LP002545' 'LP002547' 'LP002555' 'LP002556' 'LP002560' 'LP002562'\n",
      " 'LP002571' 'LP002582' 'LP002585' 'LP002586' 'LP002587' 'LP002588'\n",
      " 'LP002600' 'LP002602' 'LP002603' 'LP002606' 'LP002615' 'LP002618'\n",
      " 'LP002619' 'LP002622' 'LP002624' 'LP002625' 'LP002626' 'LP002634'\n",
      " 'LP002637' 'LP002640' 'LP002643' 'LP002648' 'LP002652' 'LP002659'\n",
      " 'LP002670' 'LP002682' 'LP002683' 'LP002684' 'LP002689' 'LP002690'\n",
      " 'LP002692' 'LP002693' 'LP002697' 'LP002699' 'LP002705' 'LP002706'\n",
      " 'LP002714' 'LP002716' 'LP002717' 'LP002720' 'LP002723' 'LP002729'\n",
      " 'LP002731' 'LP002732' 'LP002734' 'LP002738' 'LP002739' 'LP002740'\n",
      " 'LP002741' 'LP002743' 'LP002753' 'LP002755' 'LP002757' 'LP002767'\n",
      " 'LP002768' 'LP002772' 'LP002776' 'LP002777' 'LP002778' 'LP002784'\n",
      " 'LP002785' 'LP002788' 'LP002789' 'LP002792' 'LP002794' 'LP002795'\n",
      " 'LP002798' 'LP002804' 'LP002807' 'LP002813' 'LP002820' 'LP002821'\n",
      " 'LP002832' 'LP002833' 'LP002836' 'LP002837' 'LP002840' 'LP002841'\n",
      " 'LP002842' 'LP002847' 'LP002855' 'LP002862' 'LP002863' 'LP002868'\n",
      " 'LP002872' 'LP002874' 'LP002877' 'LP002888' 'LP002892' 'LP002893'\n",
      " 'LP002894' 'LP002898' 'LP002911' 'LP002912' 'LP002916' 'LP002917'\n",
      " 'LP002925' 'LP002926' 'LP002928' 'LP002931' 'LP002933' 'LP002936'\n",
      " 'LP002938' 'LP002940' 'LP002941' 'LP002943' 'LP002945' 'LP002948'\n",
      " 'LP002949' 'LP002950' 'LP002953' 'LP002958' 'LP002959' 'LP002960'\n",
      " 'LP002961' 'LP002964' 'LP002974' 'LP002978' 'LP002979' 'LP002983'\n",
      " 'LP002984' 'LP002990'] \n",
      "\n",
      "Feature 'Gender' has 3 unique categories\n",
      "They are: ['Male' 'Female' nan] \n",
      "\n",
      "Feature 'Married' has 3 unique categories\n",
      "They are: ['No' 'Yes' nan] \n",
      "\n",
      "Feature 'Dependents' has 5 unique categories\n",
      "They are: ['0' '1' '2' '3+' nan] \n",
      "\n",
      "Feature 'Education' has 2 unique categories\n",
      "They are: ['Graduate' 'Not Graduate'] \n",
      "\n",
      "Feature 'Self_Employed' has 3 unique categories\n",
      "They are: ['No' 'Yes' nan] \n",
      "\n",
      "Feature 'ApplicantIncome' has 505 unique categories\n",
      "They are: [ 5849  4583  3000  2583  6000  5417  2333  3036  4006 12841  3200  2500\n",
      "  3073  1853  1299  4950  3596  3510  4887  2600  7660  5955  3365  3717\n",
      "  9560  2799  4226  1442  3750  4166  3167  4692  3500 12500  2275  1828\n",
      "  3667  3748  3600  1800  2400  3941  4695  3410  5649  5821  2645  4000\n",
      "  1928  3086  4230  4616 11500  2708  2132  3366  8080  3357  3029  2609\n",
      "  4945  5726 10750  7100  4300  3208  1875  4755  5266  1000  3333  3846\n",
      "  2395  1378  3988  2366  8566  5695  2958  6250  3273  4133  3620  6782\n",
      "  2484  1977  4188  1759  4288  4843 13650  4652  3816  3052 11417  7333\n",
      "  3800  2071  5316  2929  3572  7451  5050 14583  2214  5568 10408  5667\n",
      "  2137  2957  3692 23803  3865 10513  6080 20166  2014  2718  3459  4895\n",
      "  3316 14999  4200  5042  6950  2698 11757  2330 14866  1538 10000  4860\n",
      "  6277  2577  9166  2281  3254 39999  9538  2980  1863  7933  3089  4167\n",
      "  9323  3707  2439  2237  8000  1820 51763  3522  5708  4344  3497  2045\n",
      "  5516  6400  1916  4600 33846  3625 39147  2178  2383   674  9328  4885\n",
      " 12000  6033  3858  4191  3125  8333  1907  3416 11000  4923  3992  3917\n",
      "  4408  3244  3975  2479  3418  3430  7787  5703  3173  3850   150  3727\n",
      "  5000  4283  2221  4009  2971  7578  3250  4735  4758  2491  3716  3189\n",
      "  3155  5500  5746  3463  3812  3315  5819  2510  2965  3406  6050  9703\n",
      "  6608  2882  1809  1668  3427  2661 16250  3083  6045  5250 14683  4931\n",
      "  6083  2060  3481  7200  5166  4095  4708  4333  2876  3237 11146  2833\n",
      "  2620  3900  2750  3993  3103  4100  4053  3927  2301  1811 20667  3158\n",
      "  3704  4124  9508  3075  4400  3153  4416  6875  4666  2875  1625  2000\n",
      "  3762 20233  7667  2917  2927  2507  2473  3399  2058  3541  4342  3601\n",
      "  3166 15000  8666  4917  5818  4384  2935 63337  9833  5503  1830  4160\n",
      "  2647  2378  4554  2499  3523  6333  2625  9083  8750  2666  2423  3813\n",
      "  3875  5167  4723  4750  3013  6822  6216  5124  6325 19730 15759  5185\n",
      "  3062  2764  4817  4310  3069  5391  5941  7167  4566  2346  3010  5488\n",
      "  9167  9504  1993  3100  3276  3180  3033  3902  1500  2889  2755  1963\n",
      "  7441  4547  2167  2213  8300 81000  3867  6256  6096  2253  2149  2995\n",
      "  1600  1025  3246  5829  2720  7250 14880  4606  5935  2920  2717  8624\n",
      "  6500 12876  2425 10047  1926 10416  7142  3660  7901  4707 37719  3466\n",
      "  3539  3340  2769  2309  1958  3948  2483  7085  3859  4301  3708  4354\n",
      "  8334  2083  7740  3015  5191  2947 16692   210  3450  2653  4691  5532\n",
      " 16525  6700  2873 16667  4350  3095 10833  3547 18333  2435  2699  5333\n",
      "  3691 17263  3597  3326  4625  2895  6283   645  3159  4865  4050  3814\n",
      " 20833  3583 13262  3598  6065  3283  2130  5815  2031  3074  4683  3400\n",
      "  2192  5677  7948  4680 17500  3775  5285  2679  6783  4281  3588 11250\n",
      " 18165  2550  6133  3617  6417  4608  2138  3652  2239  3017  2768  3358\n",
      "  2526  2785  6633  2492  2454  3593  5468  2667 10139  3887  4180  3675\n",
      " 19484  5923  5800  8799  4467  3417  5116 16666  6125  6406  3087  3229\n",
      "  1782  3182  6540  1836  1880  2787  2297  2165  2726  9357 16120  3833\n",
      "  6383  2987  9963  5780   416  2894  3676  3987  3232  2900  4106  8072\n",
      "  7583] \n",
      "\n",
      "Feature 'CoapplicantIncome' has 287 unique categories\n",
      "They are: [0.00000000e+00 1.50800000e+03 2.35800000e+03 4.19600000e+03\n",
      " 1.51600000e+03 2.50400000e+03 1.52600000e+03 1.09680000e+04\n",
      " 7.00000000e+02 1.84000000e+03 8.10600000e+03 2.84000000e+03\n",
      " 1.08600000e+03 3.50000000e+03 5.62500000e+03 1.91100000e+03\n",
      " 1.91700000e+03 2.92500000e+03 2.25300000e+03 1.04000000e+03\n",
      " 2.08300000e+03 3.36900000e+03 1.66700000e+03 3.00000000e+03\n",
      " 2.06700000e+03 1.33000000e+03 1.45900000e+03 7.21000000e+03\n",
      " 1.66800000e+03 1.21300000e+03 2.33600000e+03 3.44000000e+03\n",
      " 2.27500000e+03 1.64400000e+03 1.16700000e+03 1.59100000e+03\n",
      " 2.20000000e+03 2.25000000e+03 2.85900000e+03 3.79600000e+03\n",
      " 3.44900000e+03 4.59500000e+03 2.25400000e+03 3.06600000e+03\n",
      " 1.87500000e+03 1.77400000e+03 4.75000000e+03 3.02200000e+03\n",
      " 4.00000000e+03 2.16600000e+03 1.88100000e+03 2.53100000e+03\n",
      " 2.00000000e+03 2.11800000e+03 4.16700000e+03 2.90000000e+03\n",
      " 5.65400000e+03 1.82000000e+03 2.30200000e+03 9.97000000e+02\n",
      " 3.54100000e+03 3.26300000e+03 3.80600000e+03 3.58300000e+03\n",
      " 7.54000000e+02 1.03000000e+03 1.12600000e+03 3.60000000e+03\n",
      " 2.33300000e+03 4.11400000e+03 2.28300000e+03 1.39800000e+03\n",
      " 2.14200000e+03 2.66700000e+03 8.98000000e+03 2.01400000e+03\n",
      " 1.64000000e+03 3.85000000e+03 2.56900000e+03 1.92900000e+03\n",
      " 7.75000000e+03 1.43000000e+03 2.03400000e+03 4.48600000e+03\n",
      " 1.42500000e+03 1.66600000e+03 8.30000000e+02 3.75000000e+03\n",
      " 1.04100000e+03 1.28000000e+03 1.44700000e+03 3.16600000e+03\n",
      " 3.33300000e+03 1.76900000e+03 7.36000000e+02 1.96400000e+03\n",
      " 1.61900000e+03 1.13000000e+04 1.45100000e+03 7.25000000e+03\n",
      " 5.06300000e+03 2.13800000e+03 5.29600000e+03 2.58300000e+03\n",
      " 2.36500000e+03 2.81600000e+03 2.50000000e+03 1.08300000e+03\n",
      " 1.25000000e+03 3.02100000e+03 9.83000000e+02 1.80000000e+03\n",
      " 1.77500000e+03 2.38300000e+03 1.71700000e+03 2.79100000e+03\n",
      " 1.01000000e+03 1.69500000e+03 2.05400000e+03 2.59800000e+03\n",
      " 1.77900000e+03 1.26000000e+03 5.00000000e+03 1.98300000e+03\n",
      " 5.70100000e+03 1.30000000e+03 4.41700000e+03 4.33300000e+03\n",
      " 1.84300000e+03 1.86800000e+03 3.89000000e+03 2.16700000e+03\n",
      " 7.10100000e+03 2.10000000e+03 4.25000000e+03 2.20900000e+03\n",
      " 3.44700000e+03 1.38700000e+03 1.81100000e+03 1.56000000e+03\n",
      " 1.85700000e+03 2.22300000e+03 1.84200000e+03 3.27400000e+03\n",
      " 2.42600000e+03 8.00000000e+02 9.85799988e+02 3.05300000e+03\n",
      " 2.41600000e+03 3.33400000e+03 2.54100000e+03 2.93400000e+03\n",
      " 1.75000000e+03 1.80300000e+03 1.86300000e+03 2.40500000e+03\n",
      " 2.13400000e+03 1.89000000e+02 1.59000000e+03 2.98500000e+03\n",
      " 4.98300000e+03 2.16000000e+03 2.45100000e+03 1.79300000e+03\n",
      " 1.83300000e+03 4.49000000e+03 6.88000000e+02 4.60000000e+03\n",
      " 1.58700000e+03 1.22900000e+03 2.33000000e+03 2.45800000e+03\n",
      " 3.23000000e+03 2.16800000e+03 4.58300000e+03 6.25000000e+03\n",
      " 5.05000000e+02 3.16700000e+03 3.66700000e+03 3.03300000e+03\n",
      " 5.26600000e+03 7.87300000e+03 1.98700000e+03 9.23000000e+02\n",
      " 4.99600000e+03 4.23200000e+03 1.60000000e+03 3.13600000e+03\n",
      " 2.41700000e+03 2.11500000e+03 1.62500000e+03 1.40000000e+03\n",
      " 4.84000000e+02 2.00000000e+04 2.40000000e+03 2.03300000e+03\n",
      " 3.23700000e+03 2.77300000e+03 1.41700000e+03 1.71900000e+03\n",
      " 4.30000000e+03 1.61200008e+01 2.34000000e+03 1.85100000e+03\n",
      " 1.12500000e+03 5.06400000e+03 1.99300000e+03 8.33300000e+03\n",
      " 1.21000000e+03 1.37600000e+03 1.71000000e+03 1.54200000e+03\n",
      " 1.25500000e+03 1.45600000e+03 1.73300000e+03 2.46600000e+03\n",
      " 4.08300000e+03 2.18800000e+03 1.66400000e+03 2.91700000e+03\n",
      " 2.07900000e+03 1.50000000e+03 4.64800000e+03 1.01400000e+03\n",
      " 1.87200000e+03 1.60300000e+03 3.15000000e+03 2.43600000e+03\n",
      " 2.78500000e+03 1.13100000e+03 2.15700000e+03 9.13000000e+02\n",
      " 1.70000000e+03 2.85700000e+03 4.41600000e+03 3.68300000e+03\n",
      " 5.62400000e+03 5.30200000e+03 1.48300000e+03 6.66700000e+03\n",
      " 3.01300000e+03 1.28700000e+03 2.00400000e+03 2.03500000e+03\n",
      " 6.66600000e+03 3.66600000e+03 3.42800000e+03 1.63200000e+03\n",
      " 1.91500000e+03 1.74200000e+03 1.42400000e+03 7.16600000e+03\n",
      " 2.08700000e+03 1.30200000e+03 5.50000000e+03 2.04200000e+03\n",
      " 3.90600000e+03 5.36000000e+02 2.84500000e+03 2.52400000e+03\n",
      " 6.63000000e+02 1.95000000e+03 1.78300000e+03 2.01600000e+03\n",
      " 2.37500000e+03 3.25000000e+03 4.26600000e+03 1.03200000e+03\n",
      " 2.66900000e+03 2.30600000e+03 2.42000000e+02 2.06400000e+03\n",
      " 4.61000000e+02 2.21000000e+03 2.73900000e+03 2.23200000e+03\n",
      " 3.38370000e+04 1.52200000e+03 3.41600000e+03 3.30000000e+03\n",
      " 1.00000000e+03 4.16670000e+04 2.79200000e+03 4.30100000e+03\n",
      " 3.80000000e+03 1.41100000e+03 2.40000000e+02] \n",
      "\n",
      "Feature 'LoanAmount' has 204 unique categories\n",
      "They are: [ nan 128.  66. 120. 141. 267.  95. 158. 168. 349.  70. 109. 200. 114.\n",
      "  17. 125. 100.  76. 133. 115. 104. 315. 116. 112. 151. 191. 122. 110.\n",
      "  35. 201.  74. 106. 320. 144. 184.  80.  47.  75. 134.  96.  88.  44.\n",
      " 286.  97. 135. 180.  99. 165. 258. 126. 312. 136. 172.  81. 187. 113.\n",
      " 176. 130. 111. 167. 265.  50. 210. 175. 131. 188.  25. 137. 160. 225.\n",
      " 216.  94. 139. 152. 118. 185. 154.  85. 259. 194.  93. 370. 182. 650.\n",
      " 102. 290.  84. 242. 129.  30. 244. 600. 255.  98. 275. 121.  63. 700.\n",
      "  87. 101. 495.  67.  73. 260. 108.  58.  48. 164. 170.  83.  90. 166.\n",
      " 124.  55.  59. 127. 214. 240.  72.  60. 138.  42. 280. 140. 155. 123.\n",
      " 279. 192. 304. 330. 150. 207. 436.  78.  54.  89. 143. 105. 132. 480.\n",
      "  56. 159. 300. 376. 117.  71. 490. 173.  46. 228. 308. 236. 570. 380.\n",
      " 296. 156. 103.  45.  65.  53. 360.  62. 218. 178. 239. 405. 148. 190.\n",
      " 149. 153. 162. 230.  86. 234. 246. 500. 186. 119. 107. 209. 208. 243.\n",
      "  40. 250. 311. 400. 161. 196. 324. 157. 145. 181.  26. 211.   9. 205.\n",
      "  36.  61. 146. 292. 142. 350. 496. 253.] \n",
      "\n",
      "Feature 'Loan_Amount_Term' has 11 unique categories\n",
      "They are: [360. 120. 240.  nan 180.  60. 300. 480.  36.  84.  12.] \n",
      "\n",
      "Feature 'Credit_History' has 3 unique categories\n",
      "They are: [ 1.  0. nan] \n",
      "\n",
      "Feature 'Property_Area' has 3 unique categories\n",
      "They are: ['Urban' 'Rural' 'Semiurban'] \n",
      "\n",
      "Feature 'Loan_Status' has 2 unique categories\n",
      "They are: ['Y' 'N'] \n",
      "\n"
     ]
    }
   ],
   "source": [
    "# print unique values of each column to gain high level perspective of the data\n",
    "for col_name in df.columns:\n",
    "        unique_cat = len(df[col_name].unique())\n",
    "        print(\"Feature '{}' has {} unique categories\".format(col_name, unique_cat))\n",
    "        print(\"They are:\", df[col_name].unique(), '\\n' )"
   ]
  },
  {
   "cell_type": "code",
   "execution_count": 14,
   "metadata": {
    "collapsed": true
   },
   "outputs": [],
   "source": [
    "# We now know that dependents contains a '3+' value, that might as well be changed to 3 to avoid problems later on\n",
    "df['Dependents'] = df['Dependents'].replace('3+', 3)"
   ]
  },
  {
   "cell_type": "code",
   "execution_count": 15,
   "metadata": {
    "collapsed": true
   },
   "outputs": [],
   "source": [
    "# Let's categorize this column in order to maintain the intrinsic order\n",
    "from pandas.api.types import CategoricalDtype\n",
    "quality_cat = CategoricalDtype(['0','1','2','3'], ordered=True)\n",
    "df['Dependents'] = df.Dependents.astype(quality_cat)"
   ]
  },
  {
   "cell_type": "code",
   "execution_count": 16,
   "metadata": {},
   "outputs": [
    {
     "data": {
      "text/plain": [
       "array([  150,   210,   416,   645,   674,  1000,  1025,  1299,  1378,\n",
       "        1442,  1500,  1538,  1600,  1625,  1668,  1759,  1782,  1800,\n",
       "        1809,  1811,  1820,  1828,  1830,  1836,  1853,  1863,  1875,\n",
       "        1880,  1907,  1916,  1926,  1928,  1958,  1963,  1977,  1993,\n",
       "        2000,  2014,  2031,  2045,  2058,  2060,  2071,  2083,  2130,\n",
       "        2132,  2137,  2138,  2149,  2165,  2167,  2178,  2192,  2213,\n",
       "        2214,  2221,  2237,  2239,  2253,  2275,  2281,  2297,  2301,\n",
       "        2309,  2330,  2333,  2346,  2366,  2378,  2383,  2395,  2400,\n",
       "        2423,  2425,  2435,  2439,  2454,  2473,  2479,  2483,  2484,\n",
       "        2491,  2492,  2499,  2500,  2507,  2510,  2526,  2550,  2577,\n",
       "        2583,  2600,  2609,  2620,  2625,  2645,  2647,  2653,  2661,\n",
       "        2666,  2667,  2679,  2698,  2699,  2708,  2717,  2718,  2720,\n",
       "        2726,  2750,  2755,  2764,  2768,  2769,  2785,  2787,  2799,\n",
       "        2833,  2873,  2875,  2876,  2882,  2889,  2894,  2895,  2900,\n",
       "        2917,  2920,  2927,  2929,  2935,  2947,  2957,  2958,  2965,\n",
       "        2971,  2980,  2987,  2995,  3000,  3010,  3013,  3015,  3017,\n",
       "        3029,  3033,  3036,  3052,  3062,  3069,  3073,  3074,  3075,\n",
       "        3083,  3086,  3087,  3089,  3095,  3100,  3103,  3125,  3153,\n",
       "        3155,  3158,  3159,  3166,  3167,  3173,  3180,  3182,  3189,\n",
       "        3200,  3208,  3229,  3232,  3237,  3244,  3246,  3250,  3254,\n",
       "        3273,  3276,  3283,  3315,  3316,  3326,  3333,  3340,  3357,\n",
       "        3358,  3365,  3366,  3399,  3400,  3406,  3410,  3416,  3417,\n",
       "        3418,  3427,  3430,  3450,  3459,  3463,  3466,  3481,  3497,\n",
       "        3500,  3510,  3522,  3523,  3539,  3541,  3547,  3572,  3583,\n",
       "        3588,  3593,  3596,  3597,  3598,  3600,  3601,  3617,  3620,\n",
       "        3625,  3652,  3660,  3667,  3675,  3676,  3691,  3692,  3704,\n",
       "        3707,  3708,  3716,  3717,  3727,  3748,  3750,  3762,  3775,\n",
       "        3800,  3812,  3813,  3814,  3816,  3833,  3846,  3850,  3858,\n",
       "        3859,  3865,  3867,  3875,  3887,  3900,  3902,  3917,  3927,\n",
       "        3941,  3948,  3975,  3987,  3988,  3992,  3993,  4000,  4006,\n",
       "        4009,  4050,  4053,  4095,  4100,  4106,  4124,  4133,  4160,\n",
       "        4166,  4167,  4180,  4188,  4191,  4200,  4226,  4230,  4281,\n",
       "        4283,  4288,  4300,  4301,  4310,  4333,  4342,  4344,  4350,\n",
       "        4354,  4384,  4400,  4408,  4416,  4467,  4547,  4554,  4566,\n",
       "        4583,  4600,  4606,  4608,  4616,  4625,  4652,  4666,  4680,\n",
       "        4683,  4691,  4692,  4695,  4707,  4708,  4723,  4735,  4750,\n",
       "        4755,  4758,  4817,  4843,  4860,  4865,  4885,  4887,  4895,\n",
       "        4917,  4923,  4931,  4945,  4950,  5000,  5042,  5050,  5116,\n",
       "        5124,  5166,  5167,  5185,  5191,  5250,  5266,  5285,  5316,\n",
       "        5333,  5391,  5417,  5468,  5488,  5500,  5503,  5516,  5532,\n",
       "        5568,  5649,  5667,  5677,  5695,  5703,  5708,  5726,  5746,\n",
       "        5780,  5800,  5815,  5818,  5819,  5821,  5829,  5849,  5923,\n",
       "        5935,  5941,  5955,  6000,  6033,  6045,  6050,  6065,  6080,\n",
       "        6083,  6096,  6125,  6133,  6216,  6250,  6256,  6277,  6283,\n",
       "        6325,  6333,  6383,  6400,  6406,  6417,  6500,  6540,  6608,\n",
       "        6633,  6700,  6782,  6783,  6822,  6875,  6950,  7085,  7100,\n",
       "        7142,  7167,  7200,  7250,  7333,  7441,  7451,  7578,  7583,\n",
       "        7660,  7667,  7740,  7787,  7901,  7933,  7948,  8000,  8072,\n",
       "        8080,  8300,  8333,  8334,  8566,  8624,  8666,  8750,  8799,\n",
       "        9083,  9166,  9167,  9323,  9328,  9357,  9504,  9508,  9538,\n",
       "        9560,  9703,  9833,  9963, 10000, 10047, 10139, 10408, 10416,\n",
       "       10513, 10750, 10833, 11000, 11146, 11250, 11417, 11500, 11757,\n",
       "       12000, 12500, 12841, 12876, 13262, 13650, 14583, 14683, 14866,\n",
       "       14880, 14999, 15000, 15759, 16120, 16250, 16525, 16666, 16667,\n",
       "       16692, 17263, 17500, 18165, 18333, 19484, 19730, 20166, 20233,\n",
       "       20667, 20833, 23803, 33846, 37719, 39147, 39999, 51763, 63337,\n",
       "       81000], dtype=int64)"
      ]
     },
     "execution_count": 16,
     "metadata": {},
     "output_type": "execute_result"
    }
   ],
   "source": [
    "np.sort(df.ApplicantIncome.unique())"
   ]
  },
  {
   "cell_type": "code",
   "execution_count": 17,
   "metadata": {
    "collapsed": true
   },
   "outputs": [],
   "source": [
    "# The type is a float but it appears no reason to keep it like that, let's cast it as an integer\n",
    "df['CoapplicantIncome'] = df.CoapplicantIncome.astype('int')"
   ]
  },
  {
   "cell_type": "code",
   "execution_count": 18,
   "metadata": {},
   "outputs": [
    {
     "data": {
      "text/plain": [
       "array([    0,    16,   189,   240,   242,   461,   484,   505,   536,\n",
       "         663,   688,   700,   736,   754,   800,   830,   913,   923,\n",
       "         983,   985,   997,  1000,  1010,  1014,  1030,  1032,  1040,\n",
       "        1041,  1083,  1086,  1125,  1126,  1131,  1167,  1210,  1213,\n",
       "        1229,  1250,  1255,  1260,  1280,  1287,  1300,  1302,  1330,\n",
       "        1376,  1387,  1398,  1400,  1411,  1417,  1424,  1425,  1430,\n",
       "        1447,  1451,  1456,  1459,  1483,  1500,  1508,  1516,  1522,\n",
       "        1526,  1542,  1560,  1587,  1590,  1591,  1600,  1603,  1619,\n",
       "        1625,  1632,  1640,  1644,  1664,  1666,  1667,  1668,  1695,\n",
       "        1700,  1710,  1717,  1719,  1733,  1742,  1750,  1769,  1774,\n",
       "        1775,  1779,  1783,  1793,  1800,  1803,  1811,  1820,  1833,\n",
       "        1840,  1842,  1843,  1851,  1857,  1863,  1868,  1872,  1875,\n",
       "        1881,  1911,  1915,  1917,  1929,  1950,  1964,  1983,  1987,\n",
       "        1993,  2000,  2004,  2014,  2016,  2033,  2034,  2035,  2042,\n",
       "        2054,  2064,  2067,  2079,  2083,  2087,  2100,  2115,  2118,\n",
       "        2134,  2138,  2142,  2157,  2160,  2166,  2167,  2168,  2188,\n",
       "        2200,  2209,  2210,  2223,  2232,  2250,  2253,  2254,  2275,\n",
       "        2283,  2302,  2306,  2330,  2333,  2336,  2340,  2358,  2365,\n",
       "        2375,  2383,  2400,  2405,  2416,  2417,  2426,  2436,  2451,\n",
       "        2458,  2466,  2500,  2504,  2524,  2531,  2541,  2569,  2583,\n",
       "        2598,  2667,  2669,  2739,  2773,  2785,  2791,  2792,  2816,\n",
       "        2840,  2845,  2857,  2859,  2900,  2917,  2925,  2934,  2985,\n",
       "        3000,  3013,  3021,  3022,  3033,  3053,  3066,  3136,  3150,\n",
       "        3166,  3167,  3230,  3237,  3250,  3263,  3274,  3300,  3333,\n",
       "        3334,  3369,  3416,  3428,  3440,  3447,  3449,  3500,  3541,\n",
       "        3583,  3600,  3666,  3667,  3683,  3750,  3796,  3800,  3806,\n",
       "        3850,  3890,  3906,  4000,  4083,  4114,  4167,  4196,  4232,\n",
       "        4250,  4266,  4300,  4301,  4333,  4416,  4417,  4486,  4490,\n",
       "        4583,  4595,  4600,  4648,  4750,  4983,  4996,  5000,  5063,\n",
       "        5064,  5266,  5296,  5302,  5500,  5624,  5625,  5654,  5701,\n",
       "        6250,  6666,  6667,  7101,  7166,  7210,  7250,  7750,  7873,\n",
       "        8106,  8333,  8980, 10968, 11300, 20000, 33837, 41667],\n",
       "      dtype=int64)"
      ]
     },
     "execution_count": 18,
     "metadata": {},
     "output_type": "execute_result"
    }
   ],
   "source": [
    "np.sort(df.CoapplicantIncome.unique())"
   ]
  },
  {
   "cell_type": "code",
   "execution_count": 19,
   "metadata": {},
   "outputs": [
    {
     "data": {
      "text/plain": [
       "array([  9.,  17.,  25.,  26.,  30.,  35.,  36.,  40.,  42.,  44.,  45.,\n",
       "        46.,  47.,  48.,  50.,  53.,  54.,  55.,  56.,  58.,  59.,  60.,\n",
       "        61.,  62.,  63.,  65.,  66.,  67.,  70.,  71.,  72.,  73.,  74.,\n",
       "        75.,  76.,  78.,  80.,  81.,  83.,  84.,  85.,  86.,  87.,  88.,\n",
       "        89.,  90.,  93.,  94.,  95.,  96.,  97.,  98.,  99., 100., 101.,\n",
       "       102., 103., 104., 105., 106., 107., 108., 109., 110., 111., 112.,\n",
       "       113., 114., 115., 116., 117., 118., 119., 120., 121., 122., 123.,\n",
       "       124., 125., 126., 127., 128., 129., 130., 131., 132., 133., 134.,\n",
       "       135., 136., 137., 138., 139., 140., 141., 142., 143., 144., 145.,\n",
       "       146., 148., 149., 150., 151., 152., 153., 154., 155., 156., 157.,\n",
       "       158., 159., 160., 161., 162., 164., 165., 166., 167., 168., 170.,\n",
       "       172., 173., 175., 176., 178., 180., 181., 182., 184., 185., 186.,\n",
       "       187., 188., 190., 191., 192., 194., 196., 200., 201., 205., 207.,\n",
       "       208., 209., 210., 211., 214., 216., 218., 225., 228., 230., 234.,\n",
       "       236., 239., 240., 242., 243., 244., 246., 250., 253., 255., 258.,\n",
       "       259., 260., 265., 267., 275., 279., 280., 286., 290., 292., 296.,\n",
       "       300., 304., 308., 311., 312., 315., 320., 324., 330., 349., 350.,\n",
       "       360., 370., 376., 380., 400., 405., 436., 480., 490., 495., 496.,\n",
       "       500., 570., 600., 650., 700.,  nan])"
      ]
     },
     "execution_count": 19,
     "metadata": {},
     "output_type": "execute_result"
    }
   ],
   "source": [
    "np.sort(df.LoanAmount.unique())"
   ]
  },
  {
   "cell_type": "markdown",
   "metadata": {},
   "source": [
    "The range of the values appears reasonable. So we keep in going with some exploratory data analysis"
   ]
  },
  {
   "cell_type": "markdown",
   "metadata": {},
   "source": [
    "### EDA (Exploratory Data Analysis)"
   ]
  },
  {
   "cell_type": "code",
   "execution_count": 20,
   "metadata": {
    "collapsed": true
   },
   "outputs": [],
   "source": [
    "# plotting settings\n",
    "figsize = (18,6)\n",
    "plt.style.use(\"ggplot\")"
   ]
  },
  {
   "cell_type": "markdown",
   "metadata": {},
   "source": [
    "###### Examine label distribution (Loan Status)"
   ]
  },
  {
   "cell_type": "code",
   "execution_count": 21,
   "metadata": {
    "collapsed": true,
    "scrolled": false
   },
   "outputs": [],
   "source": [
    "# Let's map label variable from Y/N to 0/1 (Loan request rejected/Accepted)\n",
    "df['Loan_Status'] = np.where(df['Loan_Status']=='Y', 1, 0)"
   ]
  },
  {
   "cell_type": "code",
   "execution_count": 22,
   "metadata": {
    "scrolled": true
   },
   "outputs": [
    {
     "data": {
      "text/plain": [
       "1    68.729642\n",
       "0    31.270358\n",
       "Name: Loan_Status, dtype: float64"
      ]
     },
     "execution_count": 22,
     "metadata": {},
     "output_type": "execute_result"
    }
   ],
   "source": [
    "df.Loan_Status.value_counts(normalize=True)*100"
   ]
  },
  {
   "cell_type": "markdown",
   "metadata": {},
   "source": [
    "The dataset is not skewed. In fact some 2/3rd of the loan request have been accepted. "
   ]
  },
  {
   "cell_type": "code",
   "execution_count": 23,
   "metadata": {
    "scrolled": true
   },
   "outputs": [
    {
     "data": {
      "image/png": "[encoded data removed]",
      "text/plain": [
       "<matplotlib.figure.Figure at 0x22871bdf4e0>"
      ]
     },
     "metadata": {},
     "output_type": "display_data"
    }
   ],
   "source": [
    "#Visualization in a pie chart of the label\n",
    "df['Loan_Status'].value_counts().plot.pie(explode=[0,0.1],autopct='%1.2f%%', shadow=True);"
   ]
  },
  {
   "cell_type": "markdown",
   "metadata": {},
   "source": [
    "###### Univariate Analysis of the label"
   ]
  },
  {
   "cell_type": "markdown",
   "metadata": {},
   "source": [
    "Let's define some functions to automate the process of generating diagrams"
   ]
  },
  {
   "cell_type": "code",
   "execution_count": 24,
   "metadata": {
    "collapsed": true
   },
   "outputs": [],
   "source": [
    "# to generate bar charts\n",
    "def makebarchart(df, column, label):\n",
    "    f, ax = plt.subplots(1,2, figsize= figsize)\n",
    "    sns.countplot(column, data=df, ax=ax[0])\n",
    "    ax[0].set_title(column + ' Userbase Distribution')\n",
    "    df.groupby(column)[label].mean().sort_values(ascending=False).plot.bar(ax=ax[1])\n",
    "    ax[1].set_title(label + ' by ' + column);"
   ]
  },
  {
   "cell_type": "code",
   "execution_count": 25,
   "metadata": {
    "collapsed": true
   },
   "outputs": [],
   "source": [
    "# to generate histograms\n",
    "def makehistchart(df, column, label, bins):\n",
    "    bins=bins # set the number of bins\n",
    "    f,ax=plt.subplots(1,2,figsize=figsize)\n",
    "    df[df[label]==0][column].plot.hist(bins=bins, color='r', edgecolor='black', ax=ax[0])\n",
    "    ax[0].set_title('Loan Rejected')\n",
    "    df[df[label]==1][column].plot.hist(bins=bins, color='g', edgecolor='black', ax=ax[1])\n",
    "    ax[1].set_title('Loan Accepted')\n",
    "    # overlap the two diagram for a better visualization\n",
    "    f =plt.figure(figsize=figsize)\n",
    "    plt.hist(df[df[label]==1][column], bins=bins, color='g', edgecolor='black', label='Loan Accepted')\n",
    "    plt.hist(df[df[label]==0][column], bins=bins, color='r', edgecolor='black', label='Loan Rejected', alpha=0.8)\n",
    "    plt.title(column + ' Distribution overlapping by ' + label)\n",
    "    plt.ylabel('Frequency'); plt.xlabel(label)\n",
    "    plt.legend(loc='upper center', frameon=False, ncol=2);"
   ]
  },
  {
   "cell_type": "code",
   "execution_count": 26,
   "metadata": {
    "scrolled": false
   },
   "outputs": [
    {
     "data": {
      "image/png": "[encoded data removed]",
      "text/plain": [
       "<matplotlib.figure.Figure at 0x22871cd0dd8>"
      ]
     },
     "metadata": {},
     "output_type": "display_data"
    }
   ],
   "source": [
    "makebarchart(df, 'Gender', 'Loan_Status')"
   ]
  },
  {
   "cell_type": "code",
   "execution_count": 27,
   "metadata": {
    "scrolled": true
   },
   "outputs": [
    {
     "data": {
      "image/png": "[encoded data removed]",
      "text/plain": [
       "<matplotlib.figure.Figure at 0x22871e6f6d8>"
      ]
     },
     "metadata": {},
     "output_type": "display_data"
    }
   ],
   "source": [
    "makebarchart(df, 'Education', 'Loan_Status')"
   ]
  },
  {
   "cell_type": "code",
   "execution_count": 28,
   "metadata": {
    "scrolled": false
   },
   "outputs": [
    {
     "data": {
      "image/png": "[encoded data removed]",
      "text/plain": [
       "<matplotlib.figure.Figure at 0x22871ee6978>"
      ]
     },
     "metadata": {},
     "output_type": "display_data"
    }
   ],
   "source": [
    "makebarchart(df, 'Credit_History', 'Loan_Status')"
   ]
  },
  {
   "cell_type": "code",
   "execution_count": 29,
   "metadata": {
    "scrolled": false
   },
   "outputs": [
    {
     "data": {
      "image/png": "[encoded data removed]",
      "text/plain": [
       "<matplotlib.figure.Figure at 0x22871f2d9b0>"
      ]
     },
     "metadata": {},
     "output_type": "display_data"
    }
   ],
   "source": [
    "makebarchart(df, 'Property_Area', 'Loan_Status')"
   ]
  },
  {
   "cell_type": "code",
   "execution_count": 30,
   "metadata": {
    "scrolled": true
   },
   "outputs": [
    {
     "data": {
      "image/png": "[encoded data removed]",
      "text/plain": [
       "<matplotlib.figure.Figure at 0x22871ed8eb8>"
      ]
     },
     "metadata": {},
     "output_type": "display_data"
    },
    {
     "data": {
      "image/png": "[encoded data removed]",
      "text/plain": [
       "<matplotlib.figure.Figure at 0x22871d11b70>"
      ]
     },
     "metadata": {},
     "output_type": "display_data"
    }
   ],
   "source": [
    "makehistchart(df, 'ApplicantIncome', 'Loan_Status', 80)"
   ]
  },
  {
   "cell_type": "markdown",
   "metadata": {},
   "source": [
    "###### EDA insights"
   ]
  },
  {
   "cell_type": "markdown",
   "metadata": {},
   "source": [
    "- Gender and Education does not affect Loan status. \n",
    "- On the contrary Credit History variable show a very strong influence on the chance of receiving the loan. In fact some 80% of the people with a Credit history are able to receive thei loan, agianst less than 10% of the people without.\n",
    "- Property area shows a mild influence on the label.\n",
    "- Applicant income seems to exert an action too."
   ]
  },
  {
   "cell_type": "markdown",
   "metadata": {},
   "source": [
    "### Data processing for Machine Learning Analysis"
   ]
  },
  {
   "cell_type": "markdown",
   "metadata": {},
   "source": [
    "###### Create Feature Matrix X"
   ]
  },
  {
   "cell_type": "code",
   "execution_count": 31,
   "metadata": {
    "scrolled": true
   },
   "outputs": [
    {
     "data": {
      "text/plain": [
       "(614, 12)"
      ]
     },
     "execution_count": 31,
     "metadata": {},
     "output_type": "execute_result"
    }
   ],
   "source": [
    "# slice the dataframe from the first column to the last but one\n",
    "feature_names = df.columns.values[:-1]\n",
    "X = df[feature_names].copy() # make a copy of the original dataframe to avoid warning error\n",
    "X.shape"
   ]
  },
  {
   "cell_type": "markdown",
   "metadata": {},
   "source": [
    "###### Label encoding of categorical variables¶¶"
   ]
  },
  {
   "cell_type": "code",
   "execution_count": 32,
   "metadata": {},
   "outputs": [
    {
     "data": {
      "text/html": [
       "<div>\n",
       "<style scoped>\n",
       "    .dataframe tbody tr th:only-of-type {\n",
       "        vertical-align: middle;\n",
       "    }\n",
       "\n",
       "    .dataframe tbody tr th {\n",
       "        vertical-align: top;\n",
       "    }\n",
       "\n",
       "    .dataframe thead th {\n",
       "        text-align: right;\n",
       "    }\n",
       "</style>\n",
       "<table border=\"1\" class=\"dataframe\">\n",
       "  <thead>\n",
       "    <tr style=\"text-align: right;\">\n",
       "      <th></th>\n",
       "      <th>Loan_ID</th>\n",
       "      <th>Gender</th>\n",
       "      <th>Married</th>\n",
       "      <th>Dependents</th>\n",
       "      <th>Education</th>\n",
       "      <th>Self_Employed</th>\n",
       "      <th>ApplicantIncome</th>\n",
       "      <th>CoapplicantIncome</th>\n",
       "      <th>LoanAmount</th>\n",
       "      <th>Loan_Amount_Term</th>\n",
       "      <th>Credit_History</th>\n",
       "      <th>Property_Area</th>\n",
       "    </tr>\n",
       "  </thead>\n",
       "  <tbody>\n",
       "    <tr>\n",
       "      <th>0</th>\n",
       "      <td>0</td>\n",
       "      <td>0</td>\n",
       "      <td>0</td>\n",
       "      <td>0</td>\n",
       "      <td>0</td>\n",
       "      <td>0</td>\n",
       "      <td>5849</td>\n",
       "      <td>0</td>\n",
       "      <td>NaN</td>\n",
       "      <td>360.0</td>\n",
       "      <td>1.0</td>\n",
       "      <td>0</td>\n",
       "    </tr>\n",
       "    <tr>\n",
       "      <th>1</th>\n",
       "      <td>1</td>\n",
       "      <td>0</td>\n",
       "      <td>1</td>\n",
       "      <td>1</td>\n",
       "      <td>0</td>\n",
       "      <td>0</td>\n",
       "      <td>4583</td>\n",
       "      <td>1508</td>\n",
       "      <td>128.0</td>\n",
       "      <td>360.0</td>\n",
       "      <td>1.0</td>\n",
       "      <td>1</td>\n",
       "    </tr>\n",
       "    <tr>\n",
       "      <th>2</th>\n",
       "      <td>2</td>\n",
       "      <td>0</td>\n",
       "      <td>1</td>\n",
       "      <td>0</td>\n",
       "      <td>0</td>\n",
       "      <td>1</td>\n",
       "      <td>3000</td>\n",
       "      <td>0</td>\n",
       "      <td>66.0</td>\n",
       "      <td>360.0</td>\n",
       "      <td>1.0</td>\n",
       "      <td>0</td>\n",
       "    </tr>\n",
       "    <tr>\n",
       "      <th>3</th>\n",
       "      <td>3</td>\n",
       "      <td>0</td>\n",
       "      <td>1</td>\n",
       "      <td>0</td>\n",
       "      <td>1</td>\n",
       "      <td>0</td>\n",
       "      <td>2583</td>\n",
       "      <td>2358</td>\n",
       "      <td>120.0</td>\n",
       "      <td>360.0</td>\n",
       "      <td>1.0</td>\n",
       "      <td>0</td>\n",
       "    </tr>\n",
       "    <tr>\n",
       "      <th>4</th>\n",
       "      <td>4</td>\n",
       "      <td>0</td>\n",
       "      <td>0</td>\n",
       "      <td>0</td>\n",
       "      <td>0</td>\n",
       "      <td>0</td>\n",
       "      <td>6000</td>\n",
       "      <td>0</td>\n",
       "      <td>141.0</td>\n",
       "      <td>360.0</td>\n",
       "      <td>1.0</td>\n",
       "      <td>0</td>\n",
       "    </tr>\n",
       "  </tbody>\n",
       "</table>\n",
       "</div>"
      ],
      "text/plain": [
       "   Loan_ID  Gender  Married Dependents  Education  Self_Employed  \\\n",
       "0        0       0        0          0          0              0   \n",
       "1        1       0        1          1          0              0   \n",
       "2        2       0        1          0          0              1   \n",
       "3        3       0        1          0          1              0   \n",
       "4        4       0        0          0          0              0   \n",
       "\n",
       "   ApplicantIncome  CoapplicantIncome  LoanAmount  Loan_Amount_Term  \\\n",
       "0             5849                  0         NaN             360.0   \n",
       "1             4583               1508       128.0             360.0   \n",
       "2             3000                  0        66.0             360.0   \n",
       "3             2583               2358       120.0             360.0   \n",
       "4             6000                  0       141.0             360.0   \n",
       "\n",
       "   Credit_History  Property_Area  \n",
       "0             1.0              0  \n",
       "1             1.0              1  \n",
       "2             1.0              0  \n",
       "3             1.0              0  \n",
       "4             1.0              0  "
      ]
     },
     "execution_count": 32,
     "metadata": {},
     "output_type": "execute_result"
    }
   ],
   "source": [
    "for feature in X.select_dtypes(include = ['O']).columns.values: # loop through all the feature spaces and pick only the catvars\n",
    "    X[feature] = X[feature].factorize()[0] # we encode with numeric label the catvar and assign a default value od -1 to NaN\n",
    "X.head()"
   ]
  },
  {
   "cell_type": "code",
   "execution_count": 33,
   "metadata": {
    "scrolled": false
   },
   "outputs": [
    {
     "name": "stdout",
     "output_type": "stream",
     "text": [
      "<class 'pandas.core.frame.DataFrame'>\n",
      "RangeIndex: 614 entries, 0 to 613\n",
      "Data columns (total 12 columns):\n",
      "Loan_ID              614 non-null int64\n",
      "Gender               614 non-null int64\n",
      "Married              614 non-null int64\n",
      "Dependents           548 non-null category\n",
      "Education            614 non-null int64\n",
      "Self_Employed        614 non-null int64\n",
      "ApplicantIncome      614 non-null int64\n",
      "CoapplicantIncome    614 non-null int32\n",
      "LoanAmount           592 non-null float64\n",
      "Loan_Amount_Term     600 non-null float64\n",
      "Credit_History       564 non-null float64\n",
      "Property_Area        614 non-null int64\n",
      "dtypes: category(1), float64(3), int32(1), int64(7)\n",
      "memory usage: 51.2 KB\n"
     ]
    }
   ],
   "source": [
    "X.info()"
   ]
  },
  {
   "cell_type": "markdown",
   "metadata": {},
   "source": [
    "There are also some numeric variables that must be filled due to the presence of NaN"
   ]
  },
  {
   "cell_type": "code",
   "execution_count": 34,
   "metadata": {
    "collapsed": true
   },
   "outputs": [],
   "source": [
    "X['Credit_History'] = X['Credit_History'].factorize()[0]"
   ]
  },
  {
   "cell_type": "code",
   "execution_count": 35,
   "metadata": {},
   "outputs": [
    {
     "data": {
      "text/plain": [
       " 0    475\n",
       " 1     89\n",
       "-1     50\n",
       "Name: Credit_History, dtype: int64"
      ]
     },
     "execution_count": 35,
     "metadata": {},
     "output_type": "execute_result"
    }
   ],
   "source": [
    "X.Credit_History.value_counts()"
   ]
  },
  {
   "cell_type": "code",
   "execution_count": 36,
   "metadata": {
    "collapsed": true
   },
   "outputs": [],
   "source": [
    "#Let's impute the mean value to the missing ones for both features\n",
    "X['Loan_Amount_Term'].fillna(X.Loan_Amount_Term.mean(), inplace=True)\n",
    "X['LoanAmount']= X['LoanAmount'].fillna(X.LoanAmount.mean())"
   ]
  },
  {
   "cell_type": "code",
   "execution_count": 37,
   "metadata": {
    "collapsed": true
   },
   "outputs": [],
   "source": [
    "#This is a caetgory we enginereed previously. Here the most sound choice to do is to fill missing values with the most frequent value\n",
    "X['Dependents'] = X['Dependents'].fillna(X.Dependents.describe().top)"
   ]
  },
  {
   "cell_type": "code",
   "execution_count": 38,
   "metadata": {
    "scrolled": true
   },
   "outputs": [
    {
     "name": "stdout",
     "output_type": "stream",
     "text": [
      "<class 'pandas.core.frame.DataFrame'>\n",
      "RangeIndex: 614 entries, 0 to 613\n",
      "Data columns (total 12 columns):\n",
      "Loan_ID              614 non-null int64\n",
      "Gender               614 non-null int64\n",
      "Married              614 non-null int64\n",
      "Dependents           614 non-null category\n",
      "Education            614 non-null int64\n",
      "Self_Employed        614 non-null int64\n",
      "ApplicantIncome      614 non-null int64\n",
      "CoapplicantIncome    614 non-null int32\n",
      "LoanAmount           614 non-null float64\n",
      "Loan_Amount_Term     614 non-null float64\n",
      "Credit_History       614 non-null int64\n",
      "Property_Area        614 non-null int64\n",
      "dtypes: category(1), float64(2), int32(1), int64(8)\n",
      "memory usage: 51.2 KB\n"
     ]
    }
   ],
   "source": [
    "X.info()"
   ]
  },
  {
   "cell_type": "markdown",
   "metadata": {},
   "source": [
    "Feature matrix full of numeric values only and showing no presence of missing values. Ready for manipulation"
   ]
  },
  {
   "cell_type": "markdown",
   "metadata": {},
   "source": [
    "###### Create response vector y"
   ]
  },
  {
   "cell_type": "code",
   "execution_count": 39,
   "metadata": {},
   "outputs": [
    {
     "data": {
      "text/plain": [
       "(614,)"
      ]
     },
     "execution_count": 39,
     "metadata": {},
     "output_type": "execute_result"
    }
   ],
   "source": [
    "y= df.Loan_Status\n",
    "y.shape"
   ]
  },
  {
   "cell_type": "markdown",
   "metadata": {},
   "source": [
    "### Cross validation¶"
   ]
  },
  {
   "cell_type": "markdown",
   "metadata": {},
   "source": [
    "The dataset size is very small, therefore we could easily expect a strong variance during the CV fase, i.e. the results to be severely influenced by the way we select the training set. Let's verify this "
   ]
  },
  {
   "cell_type": "code",
   "execution_count": 40,
   "metadata": {
    "collapsed": true
   },
   "outputs": [],
   "source": [
    "# split data in train and test set\n",
    "X_train, X_test, y_train, y_test = train_test_split(X, y, random_state=42, test_size=0.33)"
   ]
  },
  {
   "cell_type": "markdown",
   "metadata": {},
   "source": [
    "### Model Selection"
   ]
  },
  {
   "cell_type": "markdown",
   "metadata": {},
   "source": [
    "We will try now to select the best model to obtain predictions. The 1st model we try is:"
   ]
  },
  {
   "cell_type": "markdown",
   "metadata": {},
   "source": [
    "###### Random Forest"
   ]
  },
  {
   "cell_type": "code",
   "execution_count": 41,
   "metadata": {
    "collapsed": true
   },
   "outputs": [],
   "source": [
    "rf = RandomForestClassifier(n_estimators=30, # to speed up process time and obtain acceptable results\n",
    "                            n_jobs=-1,        # to exploit all cores\n",
    "                            random_state=23,  # for reproducibility\n",
    "                            oob_score=True)  # to exploit internal cross validation tool of RF classifier"
   ]
  },
  {
   "cell_type": "code",
   "execution_count": 42,
   "metadata": {},
   "outputs": [
    {
     "data": {
      "text/plain": [
       "RandomForestClassifier(bootstrap=True, class_weight=None, criterion='gini',\n",
       "            max_depth=None, max_features='auto', max_leaf_nodes=None,\n",
       "            min_impurity_decrease=0.0, min_impurity_split=None,\n",
       "            min_samples_leaf=1, min_samples_split=2,\n",
       "            min_weight_fraction_leaf=0.0, n_estimators=30, n_jobs=-1,\n",
       "            oob_score=True, random_state=23, verbose=0, warm_start=False)"
      ]
     },
     "execution_count": 42,
     "metadata": {},
     "output_type": "execute_result"
    }
   ],
   "source": [
    "# train the model\n",
    "rf.fit(X_train, y_train)"
   ]
  },
  {
   "cell_type": "code",
   "execution_count": 43,
   "metadata": {},
   "outputs": [
    {
     "name": "stdout",
     "output_type": "stream",
     "text": [
      "Accuracy of Training set = 0.9976\n"
     ]
    }
   ],
   "source": [
    "# calculate the accuracy of the model on training set\n",
    "training_accuracy = rf.score(X_train, y_train) \n",
    "print('Accuracy of Training set = {:.4f}'.format(training_accuracy))"
   ]
  },
  {
   "cell_type": "markdown",
   "metadata": {},
   "source": [
    "Training accuracy is very high, no chance of underfitting, hence we can be sure the model is no biased"
   ]
  },
  {
   "cell_type": "code",
   "execution_count": 44,
   "metadata": {
    "scrolled": true
   },
   "outputs": [
    {
     "name": "stdout",
     "output_type": "stream",
     "text": [
      "Cross Validation accuracy  = 0.7713\n"
     ]
    }
   ],
   "source": [
    "print('Cross Validation accuracy  = {:.4f}'.format(rf.oob_score_))"
   ]
  },
  {
   "cell_type": "code",
   "execution_count": 45,
   "metadata": {
    "scrolled": true
   },
   "outputs": [
    {
     "name": "stdout",
     "output_type": "stream",
     "text": [
      "Accuracy of Testing set = 0.7833\n"
     ]
    }
   ],
   "source": [
    "# predict conversion rate on unseen data X_test\n",
    "y_pred = rf.predict(X_test)\n",
    "test_score = rf.score(X_test, y_test)\n",
    "print('Accuracy of Testing set = {:.4f}'.format(test_score))"
   ]
  },
  {
   "cell_type": "markdown",
   "metadata": {},
   "source": [
    "Accuracy went down quite consistently to some 78%, indicating that the model is now overfitting. Before trying to come out with strategies to increase the accuracy let's check the null accuracy and classification report"
   ]
  },
  {
   "cell_type": "code",
   "execution_count": 46,
   "metadata": {},
   "outputs": [
    {
     "name": "stdout",
     "output_type": "stream",
     "text": [
      "Null Accuracy= 0.6453\n"
     ]
    }
   ],
   "source": [
    "Null_Accuracy = max(y_test.mean(), 1-y_test.mean()) \n",
    "print('Null Accuracy= {:.4f}'.format (Null_Accuracy)) # Baseline for model evaluation"
   ]
  },
  {
   "cell_type": "code",
   "execution_count": 47,
   "metadata": {
    "scrolled": false
   },
   "outputs": [
    {
     "name": "stdout",
     "output_type": "stream",
     "text": [
      "Classification Report=\n",
      "\n",
      "              precision    recall  f1-score   support\n",
      "\n",
      "          0       0.82      0.50      0.62        72\n",
      "          1       0.77      0.94      0.85       131\n",
      "\n",
      "avg / total       0.79      0.78      0.77       203\n",
      "\n"
     ]
    }
   ],
   "source": [
    "print('Classification Report=\\n\\n',(classification_report(y_test, y_pred)))"
   ]
  },
  {
   "cell_type": "code",
   "execution_count": 48,
   "metadata": {},
   "outputs": [
    {
     "name": "stdout",
     "output_type": "stream",
     "text": [
      "Confusion Matrix:\n"
     ]
    },
    {
     "data": {
      "image/png": "[encoded data removed]",
      "text/plain": [
       "<matplotlib.figure.Figure at 0x22872136518>"
      ]
     },
     "metadata": {},
     "output_type": "display_data"
    }
   ],
   "source": [
    "print('Confusion Matrix:')\n",
    "matrix = confusion_matrix(y_test, y_pred)\n",
    "sns.heatmap(matrix, square=True, annot=True, vmin=8, vmax= 60, fmt='d', cbar=False, linewidths=0.2, center=True)\n",
    "plt.xlabel('Predicted label')\n",
    "plt.ylabel('True label');"
   ]
  },
  {
   "cell_type": "code",
   "execution_count": 49,
   "metadata": {
    "scrolled": false
   },
   "outputs": [
    {
     "name": "stdout",
     "output_type": "stream",
     "text": [
      "Random Forest AUC Score = 0.8048\n"
     ]
    }
   ],
   "source": [
    "#Let's calculate ROC metric\n",
    "y_pred_proba = rf.predict_proba(X_test)[:,1] # model predicted probability of class 1\n",
    "rf_roc_auc = roc_auc_score(y_test, y_pred_proba)\n",
    "print('Random Forest AUC Score =', round(rf_roc_auc,4))"
   ]
  },
  {
   "cell_type": "markdown",
   "metadata": {},
   "source": [
    "As foresaw accuracy prediction rate on unseen data decreased considerably, becasue the model parameters strongly adapted to the training set. A possible solution to limit this effect might be to cross validate the entire dataset, instead of just splitting it into two block. \n",
    "\n",
    "Let's use the K-fold cross validation module selecting 10 folders and trying to optimize accuracy as a metric."
   ]
  },
  {
   "cell_type": "markdown",
   "metadata": {},
   "source": [
    "###  K-fold Cross validation¶\n"
   ]
  },
  {
   "cell_type": "code",
   "execution_count": 50,
   "metadata": {
    "collapsed": true
   },
   "outputs": [],
   "source": [
    "cv = 10\n",
    "scores = cross_val_score(rf, X, y, cv=cv, scoring='accuracy')"
   ]
  },
  {
   "cell_type": "code",
   "execution_count": 51,
   "metadata": {
    "scrolled": true
   },
   "outputs": [
    {
     "name": "stdout",
     "output_type": "stream",
     "text": [
      "Score in folder 1 is:0.3968253968253968\n",
      "Score in folder 2 is:0.7936507936507936\n",
      "Score in folder 3 is:0.7377049180327869\n",
      "Score in folder 4 is:0.7540983606557377\n",
      "Score in folder 5 is:0.8032786885245902\n",
      "Score in folder 6 is:0.8032786885245902\n",
      "Score in folder 7 is:0.8360655737704918\n",
      "Score in folder 8 is:0.8524590163934426\n",
      "Score in folder 9 is:0.7868852459016393\n",
      "Score in folder 10 is:0.8032786885245902\n"
     ]
    }
   ],
   "source": [
    "for i, score in zip(list(range(1,cv+1)),scores): # loop trough each of the folders get the score\n",
    "        print(\"Score in folder {} is:{}\".format(i, score)) "
   ]
  },
  {
   "cell_type": "code",
   "execution_count": 52,
   "metadata": {
    "scrolled": false
   },
   "outputs": [
    {
     "name": "stdout",
     "output_type": "stream",
     "text": [
      "Accuracy of 10-fold Cross Validation is: 0.7568 \n"
     ]
    }
   ],
   "source": [
    "print('Accuracy of {}-fold Cross Validation is: {:.4f} '.format(cv,(scores.mean())))"
   ]
  },
  {
   "cell_type": "markdown",
   "metadata": {},
   "source": [
    "The mean score accuracy of the this 10-fold CV we performed did not improved, in fact it slightly diminished. \n",
    "We can exclude then that overfitting is derived from data variance. Let's investigate some other alternatives, as for example the model needs some parameter tuning to reduce overfitting and therefore improve accuracy.\n",
    "\n",
    "We will try to optimize the usual most important parameters of Random Forest (nr. of trees, max features available at each split, minimum nr. of samples in leafs. We will approach the problem using a customizing grid search, manually testing  for each parameter a list of values we expect to be productive. "
   ]
  },
  {
   "cell_type": "markdown",
   "metadata": {},
   "source": [
    "### Hyperparameters"
   ]
  },
  {
   "cell_type": "code",
   "execution_count": 53,
   "metadata": {},
   "outputs": [
    {
     "name": "stdout",
     "output_type": "stream",
     "text": [
      "30 Trees\n",
      "Random Forest AUC Score = 0.801\n",
      "\n",
      "50 Trees\n",
      "Random Forest AUC Score = 0.805\n",
      "\n",
      "100 Trees\n",
      "Random Forest AUC Score = 0.816\n",
      "\n",
      "200 Trees\n",
      "Random Forest AUC Score = 0.817\n",
      "\n",
      "500 Trees\n",
      "Random Forest AUC Score = 0.815\n",
      "\n",
      "1000 Trees\n",
      "Random Forest AUC Score = 0.816\n",
      "\n",
      "2000 Trees\n",
      "Random Forest AUC Score = 0.816\n",
      "\n"
     ]
    },
    {
     "data": {
      "image/png": "[encoded data removed]",
      "text/plain": [
       "<matplotlib.figure.Figure at 0x228723bfda0>"
      ]
     },
     "metadata": {},
     "output_type": "display_data"
    }
   ],
   "source": [
    "results =[]\n",
    "n_estimators_options = [30,50,100,200,500,1000,2000]\n",
    "for trees in n_estimators_options:\n",
    "    model = RandomForestClassifier(trees, oob_score=True, random_state=42, n_jobs=-1 )\n",
    "    model.fit(X_train, y_train)\n",
    "    print( trees, 'Trees')\n",
    "    y_pred_proba = model.predict_proba(X_test)[:,1]\n",
    "    rf_roc_auc = roc_auc_score(y_test, y_pred_proba)\n",
    "    print('Random Forest AUC Score =', round(rf_roc_auc,3))\n",
    "    results.append(rf_roc_auc)\n",
    "    print('')\n",
    "pd.Series(results, n_estimators_options).plot();"
   ]
  },
  {
   "cell_type": "markdown",
   "metadata": {},
   "source": [
    "The optimal number of trees appear to be 100. Then we set this value for this parameter and test max_features"
   ]
  },
  {
   "cell_type": "code",
   "execution_count": 54,
   "metadata": {},
   "outputs": [
    {
     "name": "stdout",
     "output_type": "stream",
     "text": [
      "auto max_features\n",
      "Random Forest AUC Score = 0.816\n",
      "\n",
      "sqrt max_features\n",
      "Random Forest AUC Score = 0.816\n",
      "\n",
      "log2 max_features\n",
      "Random Forest AUC Score = 0.816\n",
      "\n",
      "0.9 max_features\n",
      "Random Forest AUC Score = 0.812\n",
      "\n",
      "0.2 max_features\n",
      "Random Forest AUC Score = 0.807\n",
      "\n"
     ]
    },
    {
     "data": {
      "image/png": "[encoded data removed]",
      "text/plain": [
       "<matplotlib.figure.Figure at 0x2287216a8d0>"
      ]
     },
     "metadata": {},
     "output_type": "display_data"
    }
   ],
   "source": [
    "results =[]\n",
    "max_features_options = ['auto', 'sqrt', 'log2', 0.9, 0.2]\n",
    "for max_features in max_features_options:\n",
    "    model = RandomForestClassifier(100, max_features=max_features, oob_score=True, random_state=42, n_jobs=-1 )\n",
    "    model.fit(X_train, y_train)\n",
    "    print( max_features, 'max_features')\n",
    "    y_pred_proba = model.predict_proba(X_test)[:,1]\n",
    "    rf_roc_auc = roc_auc_score(y_test, y_pred_proba)\n",
    "    print('Random Forest AUC Score =', round(rf_roc_auc,3))\n",
    "    results.append(rf_roc_auc)\n",
    "    print('')\n",
    "pd.Series(results, max_features_options).plot(kind='barh');"
   ]
  },
  {
   "cell_type": "markdown",
   "metadata": {},
   "source": [
    "Not surprisingly the default value for this type of classifier (Auto or Sqrt) is the most performing one. We leave this one in next search, along with 100 nr. of estimators and check for the best value for min sample leaf."
   ]
  },
  {
   "cell_type": "code",
   "execution_count": 55,
   "metadata": {},
   "outputs": [
    {
     "name": "stdout",
     "output_type": "stream",
     "text": [
      "1 min_samples_leaf\n",
      "Random Forest AUC Score = 0.816\n",
      "\n",
      "2 min_samples_leaf\n",
      "Random Forest AUC Score = 0.817\n",
      "\n",
      "3 min_samples_leaf\n",
      "Random Forest AUC Score = 0.805\n",
      "\n",
      "4 min_samples_leaf\n",
      "Random Forest AUC Score = 0.81\n",
      "\n",
      "5 min_samples_leaf\n",
      "Random Forest AUC Score = 0.796\n",
      "\n",
      "6 min_samples_leaf\n",
      "Random Forest AUC Score = 0.787\n",
      "\n",
      "7 min_samples_leaf\n",
      "Random Forest AUC Score = 0.78\n",
      "\n",
      "8 min_samples_leaf\n",
      "Random Forest AUC Score = 0.786\n",
      "\n",
      "9 min_samples_leaf\n",
      "Random Forest AUC Score = 0.778\n",
      "\n",
      "10 min_samples_leaf\n",
      "Random Forest AUC Score = 0.779\n",
      "\n"
     ]
    },
    {
     "data": {
      "image/png": "[encoded data removed]",
      "text/plain": [
       "<matplotlib.figure.Figure at 0x2287243a2e8>"
      ]
     },
     "metadata": {},
     "output_type": "display_data"
    }
   ],
   "source": [
    "results =[]\n",
    "min_samples_leaf_options = np.arange(1,11)\n",
    "for min_samples_leaf in min_samples_leaf_options:\n",
    "    model = RandomForestClassifier(100, max_features='auto', min_samples_leaf= min_samples_leaf, oob_score=True, random_state=42, n_jobs=-1 )\n",
    "    model.fit(X_train, y_train)\n",
    "    print( min_samples_leaf, 'min_samples_leaf')\n",
    "    y_pred_proba = model.predict_proba(X_test)[:,1]\n",
    "    rf_roc_auc = roc_auc_score(y_test, y_pred_proba)\n",
    "    print('Random Forest AUC Score =', round(rf_roc_auc,3))\n",
    "    results.append(rf_roc_auc)\n",
    "    print('')\n",
    "pd.Series(results, min_samples_leaf_options).plot();"
   ]
  },
  {
   "cell_type": "markdown",
   "metadata": {},
   "source": [
    "Apparently the best value for this parmeter is set to two. Then we re-train the model using this best configuration we manually  came up with and we re-evaluate the RF model tuned. We will use the same train/test split we used, in light of the fact that  k-fold CV did not delivered any improvements."
   ]
  },
  {
   "cell_type": "code",
   "execution_count": 56,
   "metadata": {
    "collapsed": true
   },
   "outputs": [],
   "source": [
    "rf = RandomForestClassifier(n_estimators=100, \n",
    "                            n_jobs=-1,        \n",
    "                            random_state=23,  \n",
    "                            min_samples_leaf=2)  "
   ]
  },
  {
   "cell_type": "code",
   "execution_count": 57,
   "metadata": {
    "scrolled": false
   },
   "outputs": [
    {
     "data": {
      "text/plain": [
       "RandomForestClassifier(bootstrap=True, class_weight=None, criterion='gini',\n",
       "            max_depth=None, max_features='auto', max_leaf_nodes=None,\n",
       "            min_impurity_decrease=0.0, min_impurity_split=None,\n",
       "            min_samples_leaf=2, min_samples_split=2,\n",
       "            min_weight_fraction_leaf=0.0, n_estimators=100, n_jobs=-1,\n",
       "            oob_score=False, random_state=23, verbose=0, warm_start=False)"
      ]
     },
     "execution_count": 57,
     "metadata": {},
     "output_type": "execute_result"
    }
   ],
   "source": [
    "rf.fit(X_train, y_train)"
   ]
  },
  {
   "cell_type": "code",
   "execution_count": 58,
   "metadata": {},
   "outputs": [
    {
     "name": "stdout",
     "output_type": "stream",
     "text": [
      "Accuracy of Training set = 0.9319\n"
     ]
    }
   ],
   "source": [
    "# calculate the accuracy of the model on training set\n",
    "training_accuracy = rf.score(X_train, y_train) \n",
    "print('Accuracy of Training set = {:.4f}'.format(training_accuracy))"
   ]
  },
  {
   "cell_type": "markdown",
   "metadata": {},
   "source": [
    "Not surprisingly the tune model training accuracy reduced a little bit, but that is not a big issue, considering that the main metric we are after is Test Accuracy. Let's check its variation"
   ]
  },
  {
   "cell_type": "code",
   "execution_count": 59,
   "metadata": {
    "scrolled": true
   },
   "outputs": [
    {
     "name": "stdout",
     "output_type": "stream",
     "text": [
      "Testing Accuracy = 0.7980295566502463\n"
     ]
    }
   ],
   "source": [
    "# predict conversion rate on unseen data X_test\n",
    "y_pred = rf.predict(X_test)\n",
    "test_score = rf.score(X_test, y_test)\n",
    "print('Testing Accuracy =', test_score)"
   ]
  },
  {
   "cell_type": "markdown",
   "metadata": {},
   "source": [
    "As expected Testing Accuracy for this tuned model went up, when compared with the previous value (0.7833), but not as we would have hoped. Apparently this is the best that this model can do with these features set.\n",
    "\n",
    "As a side exercise and to have visualition of the actual performaces we can plot the learning curves and check the trend of testing and training accuracy. "
   ]
  },
  {
   "cell_type": "markdown",
   "metadata": {},
   "source": [
    "### Plotting Learning Curves"
   ]
  },
  {
   "cell_type": "code",
   "execution_count": 60,
   "metadata": {
    "collapsed": true
   },
   "outputs": [],
   "source": [
    "def plot_learning_curve(estimator, title, X, y, ylim=None, cv=None,\n",
    "                        n_jobs=None, train_sizes=np.linspace(.1, 1.0, 5)):\n",
    "    plt.figure(figsize=(20,5))\n",
    "    plt.title(title)\n",
    "    if ylim is not None:\n",
    "        plt.ylim(*ylim)\n",
    "    plt.xlabel(\"Training set sizes\")\n",
    "    plt.ylabel(\"Error\")\n",
    "    train_sizes, train_scores, test_scores = learning_curve(\n",
    "        estimator, X, y, cv=cv, n_jobs=n_jobs, train_sizes=train_sizes)\n",
    "    train_error_mean = 1-np.mean(train_scores, axis=1)\n",
    "    test_error_mean = 1- np.mean(test_scores, axis=1)\n",
    "    plt.grid()\n",
    "    plt.plot(train_sizes, train_error_mean, 'o-', color=\"r\",\n",
    "             label=\"Training error\")\n",
    "    plt.plot(train_sizes, test_error_mean, 'o-', color=\"g\",\n",
    "             label=\"Cross-validation error\")\n",
    "\n",
    "    plt.legend(loc=\"best\")\n",
    "    return plt"
   ]
  },
  {
   "cell_type": "code",
   "execution_count": 61,
   "metadata": {
    "scrolled": true
   },
   "outputs": [
    {
     "data": {
      "image/png": "[encoded data removed]",
      "text/plain": [
       "<matplotlib.figure.Figure at 0x228723a4748>"
      ]
     },
     "metadata": {},
     "output_type": "display_data"
    }
   ],
   "source": [
    "title = \"Learning Curves (Random Forest)\"\n",
    "plot_learning_curve(rf, title, X, y, ylim=(0.01, 0.5), cv=None, n_jobs=-1);"
   ]
  },
  {
   "cell_type": "markdown",
   "metadata": {},
   "source": [
    "The plot confirms that as the size of the training set increases the testing accuracy goes down, but with this reduced set of observations this is the best the model can do. Very likely if we could fed the model with some more observations, the model would benefit, therefore this is a case where gathering more observations is an objective to pursue.\n",
    "\n",
    "Last tool in our arsenal, to try and improve this model performance, relies on trying to simplify it, considering that the model is overfitting at this moment and therefore is adpating to much to the complexity.Or in other words the model is not able to catch the signals in the data. \n",
    "\n",
    "The easy way to simplify a model is to reduce the number of features to the most important ones. The first step in this strategy is to pick just the most important features and use them to train the model, dropping the less relevant ones.\n",
    "\n",
    "This is easy done trough the feature importances attribute made it available with *feature_importances_* "
   ]
  },
  {
   "cell_type": "markdown",
   "metadata": {},
   "source": [
    "### Feature importances"
   ]
  },
  {
   "cell_type": "code",
   "execution_count": 62,
   "metadata": {
    "scrolled": true
   },
   "outputs": [
    {
     "name": "stdout",
     "output_type": "stream",
     "text": [
      "(0.288408968703035, 'Credit_History')\n",
      "(0.14993165575271714, 'ApplicantIncome')\n",
      "(0.14134197704957613, 'LoanAmount')\n",
      "(0.14094265844548423, 'Loan_ID')\n",
      "(0.08349775435195596, 'CoapplicantIncome')\n",
      "(0.057878505053891784, 'Property_Area')\n",
      "(0.03689712685958087, 'Loan_Amount_Term')\n",
      "(0.025477865649147797, 'Married')\n",
      "(0.025036367964599484, 'Dependents')\n",
      "(0.019675865006529337, 'Gender')\n",
      "(0.015696644522379642, 'Self_Employed')\n",
      "(0.015214610641102626, 'Education')\n"
     ]
    }
   ],
   "source": [
    "#zip the array and sort it\n",
    "for feature in sorted(list(zip(rf.feature_importances_, X)), reverse=True):\n",
    "    print(feature)"
   ]
  },
  {
   "cell_type": "code",
   "execution_count": 63,
   "metadata": {
    "scrolled": false
   },
   "outputs": [
    {
     "data": {
      "image/png": "[encoded data removed]",
      "text/plain": [
       "<matplotlib.figure.Figure at 0x228721834a8>"
      ]
     },
     "metadata": {},
     "output_type": "display_data"
    }
   ],
   "source": [
    "# Chart a visual representation\n",
    "feature_importances = pd.Series(rf.feature_importances_, index=X.columns).sort_values().plot(kind='barh', figsize=(10,5))\n",
    "plt.title('Feature Importances'), plt.xlabel('% of importance');"
   ]
  },
  {
   "cell_type": "code",
   "execution_count": 64,
   "metadata": {
    "collapsed": true
   },
   "outputs": [],
   "source": [
    "# create a list of less relevant variables to be dropped in the model\n",
    "irrelevant_features = ['Education','Self_Employed', 'Gender', 'Dependents','Married', 'Loan_Amount_Term', 'Loan_ID']"
   ]
  },
  {
   "cell_type": "code",
   "execution_count": 65,
   "metadata": {
    "scrolled": false
   },
   "outputs": [
    {
     "data": {
      "text/html": [
       "<div>\n",
       "<style scoped>\n",
       "    .dataframe tbody tr th:only-of-type {\n",
       "        vertical-align: middle;\n",
       "    }\n",
       "\n",
       "    .dataframe tbody tr th {\n",
       "        vertical-align: top;\n",
       "    }\n",
       "\n",
       "    .dataframe thead th {\n",
       "        text-align: right;\n",
       "    }\n",
       "</style>\n",
       "<table border=\"1\" class=\"dataframe\">\n",
       "  <thead>\n",
       "    <tr style=\"text-align: right;\">\n",
       "      <th></th>\n",
       "      <th>ApplicantIncome</th>\n",
       "      <th>CoapplicantIncome</th>\n",
       "      <th>LoanAmount</th>\n",
       "      <th>Credit_History</th>\n",
       "      <th>Property_Area</th>\n",
       "    </tr>\n",
       "  </thead>\n",
       "  <tbody>\n",
       "    <tr>\n",
       "      <th>0</th>\n",
       "      <td>5849</td>\n",
       "      <td>0</td>\n",
       "      <td>146.412162</td>\n",
       "      <td>0</td>\n",
       "      <td>0</td>\n",
       "    </tr>\n",
       "    <tr>\n",
       "      <th>1</th>\n",
       "      <td>4583</td>\n",
       "      <td>1508</td>\n",
       "      <td>128.000000</td>\n",
       "      <td>0</td>\n",
       "      <td>1</td>\n",
       "    </tr>\n",
       "    <tr>\n",
       "      <th>2</th>\n",
       "      <td>3000</td>\n",
       "      <td>0</td>\n",
       "      <td>66.000000</td>\n",
       "      <td>0</td>\n",
       "      <td>0</td>\n",
       "    </tr>\n",
       "    <tr>\n",
       "      <th>3</th>\n",
       "      <td>2583</td>\n",
       "      <td>2358</td>\n",
       "      <td>120.000000</td>\n",
       "      <td>0</td>\n",
       "      <td>0</td>\n",
       "    </tr>\n",
       "    <tr>\n",
       "      <th>4</th>\n",
       "      <td>6000</td>\n",
       "      <td>0</td>\n",
       "      <td>141.000000</td>\n",
       "      <td>0</td>\n",
       "      <td>0</td>\n",
       "    </tr>\n",
       "  </tbody>\n",
       "</table>\n",
       "</div>"
      ],
      "text/plain": [
       "   ApplicantIncome  CoapplicantIncome  LoanAmount  Credit_History  \\\n",
       "0             5849                  0  146.412162               0   \n",
       "1             4583               1508  128.000000               0   \n",
       "2             3000                  0   66.000000               0   \n",
       "3             2583               2358  120.000000               0   \n",
       "4             6000                  0  141.000000               0   \n",
       "\n",
       "   Property_Area  \n",
       "0              0  \n",
       "1              1  \n",
       "2              0  \n",
       "3              0  \n",
       "4              0  "
      ]
     },
     "execution_count": 65,
     "metadata": {},
     "output_type": "execute_result"
    }
   ],
   "source": [
    "X_new = X.drop(irrelevant_features, axis=1) # Create the new dataset we want to adopt\n",
    "X_new.head()"
   ]
  },
  {
   "cell_type": "code",
   "execution_count": 66,
   "metadata": {
    "collapsed": true
   },
   "outputs": [],
   "source": [
    "# split data in train and test set\n",
    "X_new_train, X_new_test, y_train, y_test = train_test_split(X_new, y, random_state=42, test_size=0.33)"
   ]
  },
  {
   "cell_type": "code",
   "execution_count": 67,
   "metadata": {
    "collapsed": true
   },
   "outputs": [],
   "source": [
    "#let's use the same tune model we have identified as the best one\n",
    "rf = RandomForestClassifier(n_estimators=100, \n",
    "                            n_jobs=-1,        \n",
    "                            random_state=23,  \n",
    "                            min_samples_leaf=2)  "
   ]
  },
  {
   "cell_type": "code",
   "execution_count": 68,
   "metadata": {
    "scrolled": true
   },
   "outputs": [
    {
     "data": {
      "text/plain": [
       "RandomForestClassifier(bootstrap=True, class_weight=None, criterion='gini',\n",
       "            max_depth=None, max_features='auto', max_leaf_nodes=None,\n",
       "            min_impurity_decrease=0.0, min_impurity_split=None,\n",
       "            min_samples_leaf=2, min_samples_split=2,\n",
       "            min_weight_fraction_leaf=0.0, n_estimators=100, n_jobs=-1,\n",
       "            oob_score=False, random_state=23, verbose=0, warm_start=False)"
      ]
     },
     "execution_count": 68,
     "metadata": {},
     "output_type": "execute_result"
    }
   ],
   "source": [
    "#train the model with these reduced number of features\n",
    "rf.fit(X_new_train, y_train)"
   ]
  },
  {
   "cell_type": "code",
   "execution_count": 69,
   "metadata": {},
   "outputs": [
    {
     "name": "stdout",
     "output_type": "stream",
     "text": [
      "Accuracy of Training set = 0.9124\n"
     ]
    }
   ],
   "source": [
    "# calculate the accuracy of the model on training set\n",
    "training_accuracy = rf.score(X_new_train, y_train) \n",
    "print('Accuracy of Training set = {:.4f}'.format(training_accuracy))"
   ]
  },
  {
   "cell_type": "code",
   "execution_count": 70,
   "metadata": {
    "scrolled": true
   },
   "outputs": [
    {
     "name": "stdout",
     "output_type": "stream",
     "text": [
      "New Testing Accuracy after feature reduction is = 0.7734\n"
     ]
    }
   ],
   "source": [
    "print('New Testing Accuracy after feature reduction is = {:.4f}'.format(rf.score(X_new_test, y_test)))"
   ]
  },
  {
   "cell_type": "markdown",
   "metadata": {},
   "source": [
    "Unfortunately no improvement has been shown by this feature reduction, therefore we can conclude that some 80% accuracy is the best we can do with Random Forest model using these dataset.\n",
    "\n",
    "Let's try another tree-based model as GBT, to verify if is a better fit for our problem"
   ]
  },
  {
   "cell_type": "markdown",
   "metadata": {},
   "source": [
    "### GRADIENT BOOSTING REGRESSION"
   ]
  },
  {
   "cell_type": "code",
   "execution_count": 71,
   "metadata": {
    "collapsed": true
   },
   "outputs": [],
   "source": [
    "est = GradientBoostingClassifier(n_estimators=100, max_depth=2, \n",
    "                                 learning_rate=0.1,\n",
    "                                  min_samples_leaf=2, \n",
    "                                  random_state=0)"
   ]
  },
  {
   "cell_type": "code",
   "execution_count": 72,
   "metadata": {
    "scrolled": false
   },
   "outputs": [
    {
     "data": {
      "text/plain": [
       "GradientBoostingClassifier(criterion='friedman_mse', init=None,\n",
       "              learning_rate=0.1, loss='deviance', max_depth=2,\n",
       "              max_features=None, max_leaf_nodes=None,\n",
       "              min_impurity_decrease=0.0, min_impurity_split=None,\n",
       "              min_samples_leaf=2, min_samples_split=2,\n",
       "              min_weight_fraction_leaf=0.0, n_estimators=100,\n",
       "              presort='auto', random_state=0, subsample=1.0, verbose=0,\n",
       "              warm_start=False)"
      ]
     },
     "execution_count": 72,
     "metadata": {},
     "output_type": "execute_result"
    }
   ],
   "source": [
    "#fit the data\n",
    "est.fit(X_new_train,y_train)"
   ]
  },
  {
   "cell_type": "code",
   "execution_count": 73,
   "metadata": {
    "scrolled": true
   },
   "outputs": [
    {
     "data": {
      "text/plain": [
       "0.8369829683698297"
      ]
     },
     "execution_count": 73,
     "metadata": {},
     "output_type": "execute_result"
    }
   ],
   "source": [
    "est.score(X_new_train, y_train)"
   ]
  },
  {
   "cell_type": "code",
   "execution_count": 74,
   "metadata": {
    "scrolled": false
   },
   "outputs": [
    {
     "data": {
      "text/plain": [
       "0.7980295566502463"
      ]
     },
     "execution_count": 74,
     "metadata": {},
     "output_type": "execute_result"
    }
   ],
   "source": [
    "est.score(X_new_test, y_test)"
   ]
  },
  {
   "cell_type": "markdown",
   "metadata": {},
   "source": [
    "Once again a very modest increase in the performance, but not a substantial one.\n",
    "\n",
    "Just to reinforce the concept of feature importance let's exploit the partial dependence plot tool made available by this type of classifier."
   ]
  },
  {
   "cell_type": "code",
   "execution_count": 75,
   "metadata": {
    "scrolled": true
   },
   "outputs": [
    {
     "data": {
      "image/png": "[encoded data removed]",
      "text/plain": [
       "<matplotlib.figure.Figure at 0x2287243d518>"
      ]
     },
     "metadata": {},
     "output_type": "display_data"
    }
   ],
   "source": [
    "fig, axs = plot_partial_dependence(est, X_new_train, features=X_new_train.columns.values, feature_names=X_new.columns.values, \n",
    "                                   n_cols=2,figsize=(20,10) )"
   ]
  },
  {
   "cell_type": "markdown",
   "metadata": {},
   "source": [
    "Again Credit History is the key here, and applicant income and Loan amount, but also Property Area play some role in the final decision to grant or reject a loan."
   ]
  },
  {
   "cell_type": "markdown",
   "metadata": {},
   "source": [
    "We tried so far tree-base model. We might wonder if some other type of algorithms might provide a better accuracy.\n",
    "Let's try some other wide used ones, as, for instance, the well known Logisti Regression."
   ]
  },
  {
   "cell_type": "markdown",
   "metadata": {},
   "source": [
    "### Logistic Regression"
   ]
  },
  {
   "cell_type": "markdown",
   "metadata": {},
   "source": [
    "One important difference of this model when compared with tree-based models is that the latters does not care about indipendent variables linearity, because at each split the model will try to optimize the chosen metric (default Gini index) and neglect two or more variables that carry the same piece of information. \n",
    "\n",
    "Regression models' results like Logistic Regression, on the contary, are heavily affected by these relactions. Therefore to improve accuracy is better to perform a correlation analysis of the features and analize if they are correlated among themselves, in order to drop the ones that in fact are. \n",
    "\n",
    "Seaborn library provides with an easy to use function to features collinearity."
   ]
  },
  {
   "cell_type": "code",
   "execution_count": 76,
   "metadata": {
    "scrolled": true
   },
   "outputs": [
    {
     "data": {
      "image/png": "[encoded data removed]",
      "text/plain": [
       "<matplotlib.figure.Figure at 0x228723d4160>"
      ]
     },
     "metadata": {},
     "output_type": "display_data"
    }
   ],
   "source": [
    "sns.heatmap(X.corr(),annot=True,cmap='RdYlGn',linewidths=0.2) \n",
    "fig=plt.gcf()\n",
    "fig.set_size_inches(10,8)"
   ]
  },
  {
   "cell_type": "markdown",
   "metadata": {},
   "source": [
    "The diagram above shows unequivocably a very strong dependence between 'ApplicantIncome' and 'LoanAmount' variables ( with a correlation coefficient of + 0.57). And this is a match with intuitive experience of people with higher income applicating for higher loan amounts. \n",
    "\n",
    "To proceed with the analysis of a Logistic Regression model, then let's select the already optimized model with the most relevant features and from this one, let's drop one of the two variables we just mentioned (ex. Loan Amount)."
   ]
  },
  {
   "cell_type": "code",
   "execution_count": 77,
   "metadata": {
    "scrolled": true
   },
   "outputs": [
    {
     "data": {
      "text/html": [
       "<div>\n",
       "<style scoped>\n",
       "    .dataframe tbody tr th:only-of-type {\n",
       "        vertical-align: middle;\n",
       "    }\n",
       "\n",
       "    .dataframe tbody tr th {\n",
       "        vertical-align: top;\n",
       "    }\n",
       "\n",
       "    .dataframe thead th {\n",
       "        text-align: right;\n",
       "    }\n",
       "</style>\n",
       "<table border=\"1\" class=\"dataframe\">\n",
       "  <thead>\n",
       "    <tr style=\"text-align: right;\">\n",
       "      <th></th>\n",
       "      <th>ApplicantIncome</th>\n",
       "      <th>CoapplicantIncome</th>\n",
       "      <th>Credit_History</th>\n",
       "      <th>Property_Area</th>\n",
       "    </tr>\n",
       "  </thead>\n",
       "  <tbody>\n",
       "    <tr>\n",
       "      <th>0</th>\n",
       "      <td>5849</td>\n",
       "      <td>0</td>\n",
       "      <td>0</td>\n",
       "      <td>0</td>\n",
       "    </tr>\n",
       "    <tr>\n",
       "      <th>1</th>\n",
       "      <td>4583</td>\n",
       "      <td>1508</td>\n",
       "      <td>0</td>\n",
       "      <td>1</td>\n",
       "    </tr>\n",
       "    <tr>\n",
       "      <th>2</th>\n",
       "      <td>3000</td>\n",
       "      <td>0</td>\n",
       "      <td>0</td>\n",
       "      <td>0</td>\n",
       "    </tr>\n",
       "    <tr>\n",
       "      <th>3</th>\n",
       "      <td>2583</td>\n",
       "      <td>2358</td>\n",
       "      <td>0</td>\n",
       "      <td>0</td>\n",
       "    </tr>\n",
       "    <tr>\n",
       "      <th>4</th>\n",
       "      <td>6000</td>\n",
       "      <td>0</td>\n",
       "      <td>0</td>\n",
       "      <td>0</td>\n",
       "    </tr>\n",
       "  </tbody>\n",
       "</table>\n",
       "</div>"
      ],
      "text/plain": [
       "   ApplicantIncome  CoapplicantIncome  Credit_History  Property_Area\n",
       "0             5849                  0               0              0\n",
       "1             4583               1508               0              1\n",
       "2             3000                  0               0              0\n",
       "3             2583               2358               0              0\n",
       "4             6000                  0               0              0"
      ]
     },
     "execution_count": 77,
     "metadata": {},
     "output_type": "execute_result"
    }
   ],
   "source": [
    "X_log = X_new.drop('LoanAmount', 1); X_log.head()"
   ]
  },
  {
   "cell_type": "code",
   "execution_count": 78,
   "metadata": {
    "collapsed": true
   },
   "outputs": [],
   "source": [
    "#let' split in train/test set this dataset\n",
    "X_log_train, X_log_test, y_train, y_test = train_test_split(X,y, test_size=.3)"
   ]
  },
  {
   "cell_type": "code",
   "execution_count": 79,
   "metadata": {
    "scrolled": true
   },
   "outputs": [
    {
     "name": "stdout",
     "output_type": "stream",
     "text": [
      "Train Acc: 0.7902097902097902\n",
      "Test Acc: 0.8324324324324325\n"
     ]
    }
   ],
   "source": [
    "lr= LogisticRegression(C=2) # instantiate the classifier with a Regularization parameter C equal to 2\n",
    "lr.fit(X_log_train, y_train)\n",
    "print('Train Acc:', lr.score(X_log_train, y_train))\n",
    "print('Test Acc:', lr.score(X_log_test, y_test))"
   ]
  },
  {
   "cell_type": "markdown",
   "metadata": {},
   "source": [
    "To accelerate convergence of the algorithm is better to standardize the data to homogenize features's range, transforming them in an equivalent dataset with mean= 0 and σ=1"
   ]
  },
  {
   "cell_type": "code",
   "execution_count": 80,
   "metadata": {},
   "outputs": [
    {
     "name": "stdout",
     "output_type": "stream",
     "text": [
      "Train Accuracy of regularized Logistic Regression: 0.7925407925407926\n",
      "Test Accuracy of regularized Logistic Regression: 0.827027027027027\n"
     ]
    }
   ],
   "source": [
    "from sklearn.preprocessing import StandardScaler # import classifier\n",
    "standard_scaler = StandardScaler() # instantiate\n",
    "X_train_scaled = standard_scaler.fit_transform(X_log_train) # scale the training set\n",
    "X_test_scaled = standard_scaler.fit_transform(X_log_test) # scale the testing set\n",
    "lr.fit(X_train_scaled, y_train) # train the classifier\n",
    "print('Train Accuracy of regularized Logistic Regression:', lr.score(X_train_scaled, y_train)) \n",
    "print('Test Accuracy of regularized Logistic Regression:', lr.score(X_test_scaled, y_test))"
   ]
  },
  {
   "cell_type": "markdown",
   "metadata": {},
   "source": [
    "Once again we see that **test set performance does not move higher than 80%**. "
   ]
  },
  {
   "cell_type": "markdown",
   "metadata": {},
   "source": [
    "# Conclusions"
   ]
  },
  {
   "cell_type": "markdown",
   "metadata": {},
   "source": [
    "We investigated the chance to automate the process of eligibility of a loan to some customers, adopting a Supervised Machine Learning approach, testing some widely used algorithm on an existing small dataset.\n",
    "\n",
    "The most predicted class is Loan_status = 'Y', which basically implies that loan was granted to the requester, with a percentage hovering around 70%. This, thus, represented our lower limit to select a good classifier. Anything lower than that would be worst than just always predict a class of 'Y'.\n",
    "\n",
    "We tested **Random Forest** and our best model was able to predict correctly **around 80%** of the data, when tested on unseen data. \n",
    "The final result did not dramatically change when evaluating other model's performances like **Gradient Boosting and Logistic Regression**.\n",
    "\n",
    "The models, then, showed a mild improvement on null-accuracy, but nothing exceptional. Nonetheless this result was to be expected, due to the size of the dataset, comprising just **614 observations**.\n",
    "\n",
    "Surely increasing dataset's size will allow to improve accuracy reducing overfitting process.\n",
    "\n",
    "The analisys highlighted that, by far, the most correlated variable to the label is the Credit History."
   ]
  }
 ],
 "metadata": {
  "kernelspec": {
   "display_name": "Python 3",
   "language": "python",
   "name": "python3"
  },
  "language_info": {
   "codemirror_mode": {
    "name": "ipython",
    "version": 3
   },
   "file_extension": ".py",
   "mimetype": "text/x-python",
   "name": "python",
   "nbconvert_exporter": "python",
   "pygments_lexer": "ipython3",
   "version": "3.5.4"
  }
 },
 "nbformat": 4,
 "nbformat_minor": 2
}
